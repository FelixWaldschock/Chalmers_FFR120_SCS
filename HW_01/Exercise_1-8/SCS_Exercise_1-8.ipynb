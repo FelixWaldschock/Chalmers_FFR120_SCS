{
 "cells": [
  {
   "cell_type": "markdown",
   "metadata": {},
   "source": [
    "## FFR120\n",
    "# Felix Waldschock 2023\n",
    "\n",
    "## Exercise 1.8 Two dimensional gas in a box  "
   ]
  },
  {
   "cell_type": "code",
   "execution_count": 14,
   "metadata": {},
   "outputs": [],
   "source": [
    "import numpy as np\n",
    "import matplotlib.pyplot as plt \n",
    "import scienceplots\n",
    "plt.style.use(['science','grid'])"
   ]
  },
  {
   "cell_type": "code",
   "execution_count": 15,
   "metadata": {},
   "outputs": [],
   "source": [
    "# parameters\n",
    "N = 36 # number of particles\n",
    "m_0 = 1\n",
    "sigma_0 = 1\n",
    "v_0 = 1\n",
    "M = 40 * m_0\n",
    "roh = 2\n",
    "dt = 0.00005\n",
    "L = 100 * sigma_0"
   ]
  },
  {
   "cell_type": "code",
   "execution_count": 16,
   "metadata": {},
   "outputs": [],
   "source": [
    "# particle class\n",
    "class Particle:\n",
    "    def __init__(self, x, y, vx, vy, m, radius, L):\n",
    "        self.x = x\n",
    "        self.y = y\n",
    "        self.vx = vx\n",
    "        self.vy = vy\n",
    "        self.m = m\n",
    "        self.radius = radius\n",
    "\n",
    "    def getPositions(self):\n",
    "        return self.x, self.y\n",
    "    \n",
    "    def getVelocities(self):\n",
    "        return self.vx, self.vy\n",
    "    "
   ]
  },
  {
   "cell_type": "code",
   "execution_count": 17,
   "metadata": {},
   "outputs": [
    {
     "name": "stderr",
     "output_type": "stream",
     "text": [
      "/var/folders/gt/mfl3krb11tg0vm1rn1bxgmfh0000gn/T/ipykernel_35315/2793585115.py:13: RuntimeWarning: invalid value encountered in sqrt\n",
      "  while (np.sqrt((xCircle-x)**2-(yCircle-y)**2)) < roh :\n"
     ]
    }
   ],
   "source": [
    "Particles = []\n",
    "for i in range(N):\n",
    "    x = np.random.rand() * L\n",
    "    y = np.random.rand() * L\n",
    "\n",
    "\n",
    "    # check that not in large particle\n",
    "    xCircle = L / 2\n",
    "    yCircle = L / 2\n",
    "   \n",
    "    # calculate distance to circleCenter\n",
    "\n",
    "    while (np.sqrt((xCircle-x)**2-(yCircle-y)**2)) < roh :\n",
    "        x = np.random.rand() * L\n",
    "        y = np.random.rand() * L\n",
    "\n",
    "\n",
    "    randAngle = np.random.rand() * 2 * np.pi\n",
    "    magnitude = 20 * v_0\n",
    "    vx = np.sin(randAngle) * magnitude\n",
    "    vy = np.cos(randAngle) * magnitude\n",
    "    P = Particle(x,y,vx,vy, m_0, sigma_0, L)\n",
    "    Particles.append(P)\n",
    "\n",
    "Particles[0] = Particle(L/2, L/2, 0, 0, M, roh, L)"
   ]
  },
  {
   "cell_type": "code",
   "execution_count": 18,
   "metadata": {},
   "outputs": [
    {
     "ename": "TypeError",
     "evalue": "scatter() missing 1 required positional argument: 'y'",
     "output_type": "error",
     "traceback": [
      "\u001b[0;31m---------------------------------------------------------------------------\u001b[0m",
      "\u001b[0;31mTypeError\u001b[0m                                 Traceback (most recent call last)",
      "\u001b[1;32m/Users/felixwaldschock/gits/Chalmers_FFR120_SCS/HW_01/Exercise_1-8/SCS_Exercise_1-8.ipynb Cell 6\u001b[0m line \u001b[0;36m1\n\u001b[0;32m----> <a href='vscode-notebook-cell:/Users/felixwaldschock/gits/Chalmers_FFR120_SCS/HW_01/Exercise_1-8/SCS_Exercise_1-8.ipynb#W5sZmlsZQ%3D%3D?line=0'>1</a>\u001b[0m plt\u001b[39m.\u001b[39;49mscatter(Particles)\n",
      "\u001b[0;31mTypeError\u001b[0m: scatter() missing 1 required positional argument: 'y'"
     ]
    }
   ],
   "source": [
    "# simulation\n"
   ]
  }
 ],
 "metadata": {
  "kernelspec": {
   "display_name": "Python 3",
   "language": "python",
   "name": "python3"
  },
  "language_info": {
   "codemirror_mode": {
    "name": "ipython",
    "version": 3
   },
   "file_extension": ".py",
   "mimetype": "text/x-python",
   "name": "python",
   "nbconvert_exporter": "python",
   "pygments_lexer": "ipython3",
   "version": "3.10.12"
  }
 },
 "nbformat": 4,
 "nbformat_minor": 2
}
