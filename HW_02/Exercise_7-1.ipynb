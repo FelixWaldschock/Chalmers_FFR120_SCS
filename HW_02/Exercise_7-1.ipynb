{
 "cells": [
  {
   "cell_type": "markdown",
   "metadata": {},
   "source": [
    "FFR 120  \n",
    "Felix Waldschock\n",
    "\n",
    "HW 2  \n",
    "Exercise 7.1"
   ]
  },
  {
   "cell_type": "code",
   "execution_count": 296,
   "metadata": {},
   "outputs": [],
   "source": [
    "import numpy as np\n",
    "import matplotlib.pyplot as plt\n",
    "import scienceplots\n",
    "plt.style.use(['science','grid'])\n"
   ]
  },
  {
   "cell_type": "code",
   "execution_count": 297,
   "metadata": {},
   "outputs": [],
   "source": [
    "# parameters\n",
    "sigma = 1\n",
    "dT = 1\n",
    "N = int(10e4) # number of trajectories\n",
    "#M = int(10e2) # number of time steps\n",
    "x0 = 0\n"
   ]
  },
  {
   "cell_type": "code",
   "execution_count": 299,
   "metadata": {},
   "outputs": [],
   "source": [
    "def updatePos(x):\n",
    "    o = np.random.randn()*np.sqrt(dT)\n",
    "    x += o\n",
    "    return x"
   ]
  },
  {
   "cell_type": "markdown",
   "metadata": {},
   "source": [
    "# 7.1\n",
    "Show that they are Gaussian distributed around x0 and with standard deviation of $\\sigma\\sqrt{2*j*\\Delta t}$"
   ]
  },
  {
   "cell_type": "code",
   "execution_count": 300,
   "metadata": {},
   "outputs": [],
   "source": [
    "T_ = [1, 4, 16, 64] # at times\n",
    "T_ = np.array(T_)\n",
    "#T_ = [1]\n",
    "N = 10000           # number of independet trajectories (particles)\n",
    "t0 = 5              # time to start recording\n",
    "\n",
    "T_ = t0 * T_\n",
    "\n",
    "# fix the random seed\n",
    "np.random.seed(42)\n",
    "\n",
    "# create the trajectory matrix for each particle and each time-length\n",
    "trajectory = np.zeros((len(T_), N))\n",
    "\n",
    "# loop over particles\n",
    "for i in range(N):\n",
    "    # loop over time-lengths\n",
    "    for j in range(len(T_)):\n",
    "        # init particle\n",
    "        x = x0\n",
    "\n",
    "        # time-length -> multiple of t0\n",
    "        t = T_[j]\n",
    "        # loop over time\n",
    "        for k in range(t):\n",
    "            x = updatePos(x)\n",
    "    \n",
    "        # paste the final position of the particle in the trajectory matrix\n",
    "        trajectory[j,i] = x\n",
    "\n"
   ]
  },
  {
   "cell_type": "code",
   "execution_count": 301,
   "metadata": {},
   "outputs": [
    {
     "name": "stdout",
     "output_type": "stream",
     "text": [
      "1\n"
     ]
    }
   ],
   "source": [
    "print(1%2)"
   ]
  },
  {
   "cell_type": "code",
   "execution_count": 302,
   "metadata": {},
   "outputs": [
    {
     "data": {
      "image/png": "[encoded data removed]",
      "text/plain": [
       "<Figure size 1000x400 with 4 Axes>"
      ]
     },
     "metadata": {},
     "output_type": "display_data"
    }
   ],
   "source": [
    "# plot the histogram of the final positions, subplot \n",
    "\n",
    "fig, ax = plt.subplots(1,4, figsize=(10,4))\n",
    "\n",
    "for i in range(len(T_)):\n",
    "    ax[ i].hist(trajectory[i,:], bins=1000, density=True)\n",
    "    ax[ i].set_title(f'$t = {int(T_[i]/t0)} t_0$')\n",
    "    ax[ i].set_xlabel('$x / \\sigma$')\n",
    "    ax[ i].set_ylabel('$P(x)$')\n",
    "    # set equal y axis for all subplots\n",
    "    ax[ i].set_ylim([0, 0.2])\n",
    "    # hide y numbers\n",
    "    ax[ i].set_yticklabels([])\n"
   ]
  },
  {
   "cell_type": "markdown",
   "metadata": {},
   "source": [
    "The standard deviation $\\sigma \\sqrt{2j\\Delta t}$ depends on j, which is in this case $[1, 4, 16, 64]$.  \n",
    "With $x_0 = 0$ one can see that all distributions center around $x_0$.  \n",
    "The standard deviations are calculated the following. It can be seen that they differ from the theoretical ones. For all four different time evaluations its about 29%. "
   ]
  },
  {
   "cell_type": "code",
   "execution_count": 303,
   "metadata": {},
   "outputs": [
    {
     "name": "stdout",
     "output_type": "stream",
     "text": [
      "Numerical results for standard deviation:\n",
      "std[0] = 2.2527348979685415\n",
      "std[1] = 4.4996791122360476\n",
      "std[2] = 8.952541607959615\n",
      "std[3] = 17.704887598337066\n",
      "Analytical results for standard deviation:\n",
      "std[0] = 3.1622776601683795\n",
      "std[1] = 6.324555320336759\n",
      "std[2] = 12.649110640673518\n",
      "std[3] = 25.298221281347036\n",
      "Relative differences:\n",
      "relative_difference[0] = 0.2876226757872388\n",
      "relative_difference[1] = 0.2885382632724831\n",
      "relative_difference[2] = 0.29223944178553524\n",
      "relative_difference[3] = 0.30015286839983135\n"
     ]
    }
   ],
   "source": [
    "# calculate the standard deviation for each time length\n",
    "std_numerical = np.std(trajectory, axis=1)\n",
    "print(\"Numerical results for standard deviation:\")\n",
    "for i in range(len(std_numerical)):\n",
    "    print(f'std[{i}] = {std_numerical[i]}')\n",
    "\n",
    "# analytical results for the standard deviations\n",
    "def stdAnalytical(sigma, j, dt):\n",
    "    return sigma * np.sqrt(2*j*dt)\n",
    "\n",
    "std_analytical = stdAnalytical(sigma, T_, dT)\n",
    "print(\"Analytical results for standard deviation:\")\n",
    "for i in range(len(std_analytical)):\n",
    "    print(f'std[{i}] = {std_analytical[i]}')\n",
    "\n",
    "# relative differences between analytical and numerical results\n",
    "relative_differences = np.abs(std_numerical - std_analytical) / std_analytical\n",
    "print(\"Relative differences:\")\n",
    "for i in range(len(relative_differences)):\n",
    "    print(f'relative_difference[{i}] = {relative_differences[i]}')"
   ]
  },
  {
   "cell_type": "markdown",
   "metadata": {},
   "source": []
  }
 ],
 "metadata": {
  "kernelspec": {
   "display_name": "Python 3",
   "language": "python",
   "name": "python3"
  },
  "language_info": {
   "codemirror_mode": {
    "name": "ipython",
    "version": 3
   },
   "file_extension": ".py",
   "mimetype": "text/x-python",
   "name": "python",
   "nbconvert_exporter": "python",
   "pygments_lexer": "ipython3",
   "version": "3.10.12"
  }
 },
 "nbformat": 4,
 "nbformat_minor": 2
}
