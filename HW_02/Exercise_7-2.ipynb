{
 "cells": [
  {
   "cell_type": "markdown",
   "metadata": {},
   "source": [
    "FFR 120  \n",
    "Felix Waldschock\n",
    "\n",
    "HW 2  \n",
    "Exercise 7.2"
   ]
  },
  {
   "cell_type": "code",
   "execution_count": 149,
   "metadata": {},
   "outputs": [],
   "source": [
    "import numpy as np\n",
    "import matplotlib.pyplot as plt\n",
    "import scienceplots\n",
    "plt.style.use(['science','grid'])\n",
    "from tqdm import trange\n"
   ]
  },
  {
   "cell_type": "code",
   "execution_count": 150,
   "metadata": {},
   "outputs": [],
   "source": [
    "# parameters\n",
    "L = 100         # length of the box\n",
    "sigma = 1       \n",
    "dT = 0.01\n",
    "dT = 1\n",
    "x0 = 0"
   ]
  },
  {
   "cell_type": "code",
   "execution_count": 151,
   "metadata": {},
   "outputs": [],
   "source": [
    "# update rule\n",
    "def updatePos(x):\n",
    "    o = np.random.randn()*np.sqrt(dT)\n",
    "    x += o\n",
    "    return x"
   ]
  },
  {
   "cell_type": "markdown",
   "metadata": {},
   "source": [
    "Boundary conditions:    \n",
    "if (x < (- L / 2)):  \n",
    "    x = - L - x  \n",
    "elif ((-L / 2) <= x <= (L / 2)):  \n",
    "    x = x  \n",
    "elif (x > (L / 2)):   \n",
    "    x = L - x  \n"
   ]
  },
  {
   "cell_type": "code",
   "execution_count": 152,
   "metadata": {},
   "outputs": [],
   "source": [
    "# check boundary conditions\n",
    "def checkBoundary(x, L):\n",
    "    Lh = L / 2\n",
    "    if (x < -Lh):\n",
    "        x = - L - x\n",
    "    elif ((-Lh <= x) and (x <= Lh)):\n",
    "        x = x\n",
    "    elif (x > Lh):\n",
    "        x = L - x\n",
    "    return x\n",
    "    "
   ]
  },
  {
   "cell_type": "code",
   "execution_count": 153,
   "metadata": {},
   "outputs": [
    {
     "name": "stdout",
     "output_type": "stream",
     "text": [
      "0\n"
     ]
    }
   ],
   "source": [
    "# Simulate\n",
    "N = 10000                                   # number of trajectiories (particles)\n",
    "T_tot = [10, 100, 1000, 10000]              # total time\n",
    "T_tot = np.array(T_tot)\n",
    "Iteration_Steps = T_tot * (1 / dT)          # total number of steps \n",
    "\n",
    "trajectories = np.zeros((N, len(T_tot)))    # array to store trajectories  \n",
    "simgas_ = np.zeros(N)\n"
   ]
  },
  {
   "cell_type": "code",
   "execution_count": 154,
   "metadata": {},
   "outputs": [
    {
     "name": "stderr",
     "output_type": "stream",
     "text": [
      "  0%|          | 0/10000 [00:00<?, ?it/s]"
     ]
    },
    {
     "name": "stderr",
     "output_type": "stream",
     "text": [
      "100%|██████████| 10000/10000 [06:09<00:00, 27.09it/s]\n"
     ]
    }
   ],
   "source": [
    "# loop over all particles\n",
    "for i in trange(N):\n",
    "    # loop the iterion steps -> only loop over the longest time, and save the data from the intermediate steps\n",
    "    max_steps = int(np.max(Iteration_Steps))\n",
    "    # init particle\n",
    "    x = x0\n",
    "    for s in range(max_steps):\n",
    "        # loop over all steps\n",
    "        x = updatePos(x)\n",
    "        x = checkBoundary(x, L)\n",
    "        \n",
    "        # save the final x if s is in the Iteration_Steps\n",
    "        if s in Iteration_Steps:\n",
    "            # find at which index s is in Iteration_Steps\n",
    "            index = np.where(Iteration_Steps == s)[0][0]\n",
    "            # save the x at the index\n",
    "            trajectories[i, index] = x\n",
    "        if s == max_steps-1:\n",
    "            trajectories[i, -1] = x\n",
    "    \n"
   ]
  },
  {
   "cell_type": "code",
   "execution_count": 156,
   "metadata": {},
   "outputs": [],
   "source": [
    "# save the trajectories to a file\n",
    "if(0):\n",
    "    np.savetxt('trajectories.npy', trajectories)\n"
   ]
  },
  {
   "cell_type": "code",
   "execution_count": 157,
   "metadata": {},
   "outputs": [
    {
     "data": {
      "image/png": "[encoded data removed]",
      "text/plain": [
       "<Figure size 800x600 with 1 Axes>"
      ]
     },
     "metadata": {},
     "output_type": "display_data"
    }
   ],
   "source": [
    "# load the trajectories from a file\n",
    "trajectories = np.loadtxt('trajectories.npy')\n",
    "\n",
    "# plot the trajectories in one histogram\n",
    "fig, ax = plt.subplots(figsize=(8, 6))\n",
    "plt.hist(trajectories[:, 0], bins=100, density=True, label='T = 10')\n",
    "plt.hist(trajectories[:, 1], bins=100, density=True, label='T = 100')\n",
    "plt.hist(trajectories[:, 2], bins=100, density=True, label='T = 1000')\n",
    "plt.hist(trajectories[:, 3], bins=100, density=True, label='T = 10000')\n",
    "# plt.hist(trajectories[:, 4], bins=100, density=True, label='T = 100000')\n",
    "plt.legend()\n",
    "ax.set_yticklabels([])\n",
    "plt.show()\n",
    "\n",
    "\n"
   ]
  }
 ],
 "metadata": {
  "kernelspec": {
   "display_name": "Python 3",
   "language": "python",
   "name": "python3"
  },
  "language_info": {
   "codemirror_mode": {
    "name": "ipython",
    "version": 3
   },
   "file_extension": ".py",
   "mimetype": "text/x-python",
   "name": "python",
   "nbconvert_exporter": "python",
   "pygments_lexer": "ipython3",
   "version": "3.10.12"
  }
 },
 "nbformat": 4,
 "nbformat_minor": 2
}
