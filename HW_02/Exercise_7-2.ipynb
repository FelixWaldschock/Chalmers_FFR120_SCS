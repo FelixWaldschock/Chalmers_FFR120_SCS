{
 "cells": [
  {
   "cell_type": "markdown",
   "metadata": {},
   "source": [
    "FFR 120  \n",
    "Felix Waldschock\n",
    "\n",
    "HW 2  \n",
    "Exercise 7.2"
   ]
  },
  {
   "cell_type": "code",
   "execution_count": 47,
   "metadata": {},
   "outputs": [],
   "source": [
    "import numpy as np\n",
    "import matplotlib.pyplot as plt\n",
    "import scienceplots\n",
    "plt.style.use(['science','grid'])\n",
    "from tqdm import trange\n"
   ]
  },
  {
   "cell_type": "code",
   "execution_count": 48,
   "metadata": {},
   "outputs": [],
   "source": [
    "# parameters\n",
    "L = 100         # length of the box\n",
    "sigma = 1       \n",
    "dT = 0.01\n",
    "dT = 0.1\n",
    "dT = 1\n",
    "x0 = 0"
   ]
  },
  {
   "cell_type": "code",
   "execution_count": 49,
   "metadata": {},
   "outputs": [],
   "source": [
    "# update rule\n",
    "def updatePos(x):\n",
    "    o = np.random.randn()*np.sqrt(dT)\n",
    "    x += o\n",
    "    return x"
   ]
  },
  {
   "cell_type": "markdown",
   "metadata": {},
   "source": [
    "Boundary conditions:    \n",
    "if (x < (- L / 2)):  \n",
    "    x = - L - x  \n",
    "elif ((-L / 2) <= x <= (L / 2)):  \n",
    "    x = x  \n",
    "elif (x > (L / 2)):   \n",
    "    x = L - x  \n"
   ]
  },
  {
   "cell_type": "code",
   "execution_count": 50,
   "metadata": {},
   "outputs": [],
   "source": [
    "# check boundary conditions\n",
    "def checkBoundary(x, L):\n",
    "    Lh = L / 2\n",
    "    if (x < -Lh):\n",
    "        x = - L - x\n",
    "    elif ((-Lh <= x) and (x <= Lh)):\n",
    "        x = x\n",
    "    elif (x > Lh):\n",
    "        x = L - x\n",
    "    return x\n",
    "    "
   ]
  },
  {
   "cell_type": "code",
   "execution_count": 51,
   "metadata": {},
   "outputs": [],
   "source": [
    "# Simulate\n",
    "N = 10000                                   # number of trajectiories (particles)\n",
    "T_tot = [10, 100, 1000, 10000, 10000]      # total time\n",
    "T_tot = np.array(T_tot)\n",
    "Iteration_Steps = T_tot * (1 / dT)          # total number of steps \n",
    "max_steps = int(np.max(Iteration_Steps))    # maximum number of steps\n",
    "\n",
    "trajectories = np.zeros((N, len(T_tot)))    # array to store trajectories  \n",
    "sigmas = np.zeros(N)\n",
    "\n",
    "# Store the time series trajectory in a tensor\n",
    "trajectoryTensor = np.zeros((N, max_steps))\n"
   ]
  },
  {
   "cell_type": "code",
   "execution_count": 52,
   "metadata": {},
   "outputs": [
    {
     "name": "stderr",
     "output_type": "stream",
     "text": [
      "100%|██████████| 100001/100001 [00:10<00:00, 9173.98it/s]\n"
     ]
    }
   ],
   "source": [
    "# improved version with using vectorizing of numpy\n",
    "def simulate_trajectory(N, max_steps, L):\n",
    "    x = np.zeros(N)*x0\n",
    "    trajectories = np.zeros((N, len(T_tot)))    # array to store trajectories  \n",
    "    sigmas_ = np.zeros(N)         # array to store sigmas\n",
    "    for s in trange(max_steps):\n",
    "        # calc new sigma\n",
    "        o = sigma * np.sqrt(dT)\n",
    "        directions = np.random.choice([-1, 1], N)\n",
    "        x += directions * o\n",
    "        \n",
    "        # check boundaries and apply correction\n",
    "        x = np.where(x < -L/2, -L - x, x)\n",
    "        x = np.where(x > L/2, L - x, x)\n",
    "        \n",
    "        if s in Iteration_Steps:\n",
    "            index = np.where(Iteration_Steps == s)[0][0]\n",
    "            trajectories[:, index] = x\n",
    "\n",
    "        # store the trajectory in a tensor\n",
    "        #trajectoryTensor[:, s] = x\n",
    "\n",
    "    trajectories[:, -1] = x\n",
    "    sigmas_[:] = sigma\n",
    "\n",
    "    return trajectories, sigmas_\n",
    "\n",
    "trajectories, sigmas_ = simulate_trajectory(N, max_steps, L)\n"
   ]
  },
  {
   "cell_type": "code",
   "execution_count": 53,
   "metadata": {},
   "outputs": [],
   "source": [
    "# save the trajectories to a file\n",
    "if(1):\n",
    "    np.save('Simulated_Data/trajectories_72.npy', trajectories)\n",
    "    np.save('Simulated_Data/sigmas_72.npy', sigmas_)\n",
    "    #np.save('Simulated_Data/trajectoryTensor_72.npy', trajectoryTensor)\n"
   ]
  },
  {
   "cell_type": "code",
   "execution_count": 54,
   "metadata": {},
   "outputs": [
    {
     "data": {
      "image/png": "[encoded data removed]",
      "text/plain": [
       "<Figure size 800x600 with 1 Axes>"
      ]
     },
     "metadata": {},
     "output_type": "display_data"
    }
   ],
   "source": [
    "# load the trajectories from a file\n",
    "trajectories = np.load('Simulated_Data/trajectories_72.npy')\n",
    "bins = 40\n",
    "# plot the trajectories in one histogram\n",
    "fig, ax = plt.subplots(figsize=(8, 6))\n",
    "plt.hist(trajectories[:, 0], bins=bins, density=True, label='T = 10')\n",
    "plt.hist(trajectories[:, 1], bins=bins, density=True, label='T = 100')\n",
    "plt.hist(trajectories[:, 2], bins=bins, density=True, label='T = 1000')\n",
    "plt.hist(trajectories[:, 3], bins=bins, density=True, label='T = 10000')\n",
    "plt.hist(trajectories[:, 4], bins=100, density=True, label='T = 100000')\n",
    "plt.legend()\n",
    "plt.xlabel('x')\n",
    "plt.ylabel('P(x)')\n",
    "ax.set_yticklabels([])\n",
    "plt.show()\n",
    "\n",
    "\n"
   ]
  }
 ],
 "metadata": {
  "kernelspec": {
   "display_name": "Python 3",
   "language": "python",
   "name": "python3"
  },
  "language_info": {
   "codemirror_mode": {
    "name": "ipython",
    "version": 3
   },
   "file_extension": ".py",
   "mimetype": "text/x-python",
   "name": "python",
   "nbconvert_exporter": "python",
   "pygments_lexer": "ipython3",
   "version": "3.10.12"
  }
 },
 "nbformat": 4,
 "nbformat_minor": 2
}
