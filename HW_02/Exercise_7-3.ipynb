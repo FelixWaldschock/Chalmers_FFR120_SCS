{
 "cells": [
  {
   "cell_type": "markdown",
   "metadata": {},
   "source": [
    "FFR 120  \n",
    "Felix Waldschock\n",
    "\n",
    "HW 2  \n",
    "Exercise 7.2"
   ]
  },
  {
   "cell_type": "code",
   "execution_count": 11,
   "metadata": {},
   "outputs": [],
   "source": [
    "import numpy as np\n",
    "import matplotlib.pyplot as plt\n",
    "import scienceplots\n",
    "plt.style.use(['science','grid'])\n",
    "from tqdm import trange\n"
   ]
  },
  {
   "cell_type": "code",
   "execution_count": 12,
   "metadata": {},
   "outputs": [],
   "source": [
    "# parameters\n",
    "sigma0 = 1\n",
    "dSigma = 1.8 \n",
    "L = 100\n",
    "dT = 0.01\n",
    "x0 = 0\n",
    "\n"
   ]
  },
  {
   "cell_type": "code",
   "execution_count": 13,
   "metadata": {},
   "outputs": [],
   "source": [
    "def getSigma(x):\n",
    "    return sigma0 + dSigma*x/L"
   ]
  },
  {
   "cell_type": "code",
   "execution_count": 14,
   "metadata": {},
   "outputs": [],
   "source": [
    "def updatePos(x):\n",
    "    sigma = getSigma(x)\n",
    "    o = sigma + np.sqrt(dT)\n",
    "    # randomly choose direction\n",
    "    direction = np.random.choice([-1,1])\n",
    "    return x + direction*o"
   ]
  },
  {
   "cell_type": "code",
   "execution_count": 15,
   "metadata": {},
   "outputs": [],
   "source": [
    "# Simulate\n",
    "N = 10000                                   # number of trajectiories (particles)\n",
    "T_tot = [10, 100, 1000, 10000]              # total time\n",
    "T_tot = np.array(T_tot)\n",
    "Iteration_Steps = T_tot * (1 / dT)          # total number of steps \n",
    "\n",
    "trajectories = np.zeros((N, len(T_tot)))    # array to store trajectories  \n"
   ]
  },
  {
   "cell_type": "code",
   "execution_count": 16,
   "metadata": {},
   "outputs": [
    {
     "name": "stderr",
     "output_type": "stream",
     "text": [
      "  0%|          | 0/10000 [00:00<?, ?it/s]"
     ]
    },
    {
     "name": "stderr",
     "output_type": "stream",
     "text": [
      "  0%|          | 4/10000 [00:40<28:06:02, 10.12s/it]\n"
     ]
    },
    {
     "ename": "KeyboardInterrupt",
     "evalue": "",
     "output_type": "error",
     "traceback": [
      "\u001b[0;31m---------------------------------------------------------------------------\u001b[0m",
      "\u001b[0;31mKeyboardInterrupt\u001b[0m                         Traceback (most recent call last)",
      "\u001b[1;32m/Users/felixwaldschock/gits/Chalmers_FFR120_SCS/HW_02/Exercise_7-3.ipynb Cell 7\u001b[0m line \u001b[0;36m9\n\u001b[1;32m      <a href='vscode-notebook-cell:/Users/felixwaldschock/gits/Chalmers_FFR120_SCS/HW_02/Exercise_7-3.ipynb#X13sZmlsZQ%3D%3D?line=5'>6</a>\u001b[0m x \u001b[39m=\u001b[39m x0\n\u001b[1;32m      <a href='vscode-notebook-cell:/Users/felixwaldschock/gits/Chalmers_FFR120_SCS/HW_02/Exercise_7-3.ipynb#X13sZmlsZQ%3D%3D?line=6'>7</a>\u001b[0m \u001b[39mfor\u001b[39;00m s \u001b[39min\u001b[39;00m \u001b[39mrange\u001b[39m(max_steps):\n\u001b[1;32m      <a href='vscode-notebook-cell:/Users/felixwaldschock/gits/Chalmers_FFR120_SCS/HW_02/Exercise_7-3.ipynb#X13sZmlsZQ%3D%3D?line=7'>8</a>\u001b[0m     \u001b[39m# loop over all steps\u001b[39;00m\n\u001b[0;32m----> <a href='vscode-notebook-cell:/Users/felixwaldschock/gits/Chalmers_FFR120_SCS/HW_02/Exercise_7-3.ipynb#X13sZmlsZQ%3D%3D?line=8'>9</a>\u001b[0m     x \u001b[39m=\u001b[39m updatePos(x)\n\u001b[1;32m     <a href='vscode-notebook-cell:/Users/felixwaldschock/gits/Chalmers_FFR120_SCS/HW_02/Exercise_7-3.ipynb#X13sZmlsZQ%3D%3D?line=9'>10</a>\u001b[0m     \u001b[39m# x = checkBoundary(x, L)\u001b[39;00m\n\u001b[1;32m     <a href='vscode-notebook-cell:/Users/felixwaldschock/gits/Chalmers_FFR120_SCS/HW_02/Exercise_7-3.ipynb#X13sZmlsZQ%3D%3D?line=10'>11</a>\u001b[0m     \n\u001b[1;32m     <a href='vscode-notebook-cell:/Users/felixwaldschock/gits/Chalmers_FFR120_SCS/HW_02/Exercise_7-3.ipynb#X13sZmlsZQ%3D%3D?line=11'>12</a>\u001b[0m     \u001b[39m# save the final x if s is in the Iteration_Steps\u001b[39;00m\n\u001b[1;32m     <a href='vscode-notebook-cell:/Users/felixwaldschock/gits/Chalmers_FFR120_SCS/HW_02/Exercise_7-3.ipynb#X13sZmlsZQ%3D%3D?line=12'>13</a>\u001b[0m     \u001b[39mif\u001b[39;00m s \u001b[39min\u001b[39;00m Iteration_Steps:\n\u001b[1;32m     <a href='vscode-notebook-cell:/Users/felixwaldschock/gits/Chalmers_FFR120_SCS/HW_02/Exercise_7-3.ipynb#X13sZmlsZQ%3D%3D?line=13'>14</a>\u001b[0m         \u001b[39m# find at which index s is in Iteration_Steps\u001b[39;00m\n",
      "\u001b[1;32m/Users/felixwaldschock/gits/Chalmers_FFR120_SCS/HW_02/Exercise_7-3.ipynb Cell 7\u001b[0m line \u001b[0;36m5\n\u001b[1;32m      <a href='vscode-notebook-cell:/Users/felixwaldschock/gits/Chalmers_FFR120_SCS/HW_02/Exercise_7-3.ipynb#X13sZmlsZQ%3D%3D?line=2'>3</a>\u001b[0m o \u001b[39m=\u001b[39m sigma \u001b[39m+\u001b[39m np\u001b[39m.\u001b[39msqrt(dT)\n\u001b[1;32m      <a href='vscode-notebook-cell:/Users/felixwaldschock/gits/Chalmers_FFR120_SCS/HW_02/Exercise_7-3.ipynb#X13sZmlsZQ%3D%3D?line=3'>4</a>\u001b[0m \u001b[39m# randomly choose direction\u001b[39;00m\n\u001b[0;32m----> <a href='vscode-notebook-cell:/Users/felixwaldschock/gits/Chalmers_FFR120_SCS/HW_02/Exercise_7-3.ipynb#X13sZmlsZQ%3D%3D?line=4'>5</a>\u001b[0m direction \u001b[39m=\u001b[39m np\u001b[39m.\u001b[39;49mrandom\u001b[39m.\u001b[39;49mchoice([\u001b[39m-\u001b[39;49m\u001b[39m1\u001b[39;49m,\u001b[39m1\u001b[39;49m])\n\u001b[1;32m      <a href='vscode-notebook-cell:/Users/felixwaldschock/gits/Chalmers_FFR120_SCS/HW_02/Exercise_7-3.ipynb#X13sZmlsZQ%3D%3D?line=5'>6</a>\u001b[0m \u001b[39mreturn\u001b[39;00m x \u001b[39m+\u001b[39m direction\u001b[39m*\u001b[39mo\n",
      "File \u001b[0;32mmtrand.pyx:962\u001b[0m, in \u001b[0;36mnumpy.random.mtrand.RandomState.choice\u001b[0;34m()\u001b[0m\n",
      "File \u001b[0;32mmtrand.pyx:748\u001b[0m, in \u001b[0;36mnumpy.random.mtrand.RandomState.randint\u001b[0;34m()\u001b[0m\n",
      "File \u001b[0;32m_bounded_integers.pyx:1228\u001b[0m, in \u001b[0;36mnumpy.random._bounded_integers._rand_int64\u001b[0;34m()\u001b[0m\n",
      "File \u001b[0;32m<__array_function__ internals>:180\u001b[0m, in \u001b[0;36mprod\u001b[0;34m(*args, **kwargs)\u001b[0m\n",
      "File \u001b[0;32m/opt/homebrew/lib/python3.10/site-packages/numpy/core/fromnumeric.py:2927\u001b[0m, in \u001b[0;36mprod\u001b[0;34m(a, axis, dtype, out, keepdims, initial, where)\u001b[0m\n\u001b[1;32m   2922\u001b[0m \u001b[39mdef\u001b[39;00m \u001b[39m_prod_dispatcher\u001b[39m(a, axis\u001b[39m=\u001b[39m\u001b[39mNone\u001b[39;00m, dtype\u001b[39m=\u001b[39m\u001b[39mNone\u001b[39;00m, out\u001b[39m=\u001b[39m\u001b[39mNone\u001b[39;00m, keepdims\u001b[39m=\u001b[39m\u001b[39mNone\u001b[39;00m,\n\u001b[1;32m   2923\u001b[0m                      initial\u001b[39m=\u001b[39m\u001b[39mNone\u001b[39;00m, where\u001b[39m=\u001b[39m\u001b[39mNone\u001b[39;00m):\n\u001b[1;32m   2924\u001b[0m     \u001b[39mreturn\u001b[39;00m (a, out)\n\u001b[0;32m-> 2927\u001b[0m \u001b[39m@array_function_dispatch\u001b[39m(_prod_dispatcher)\n\u001b[1;32m   2928\u001b[0m \u001b[39mdef\u001b[39;00m \u001b[39mprod\u001b[39m(a, axis\u001b[39m=\u001b[39m\u001b[39mNone\u001b[39;00m, dtype\u001b[39m=\u001b[39m\u001b[39mNone\u001b[39;00m, out\u001b[39m=\u001b[39m\u001b[39mNone\u001b[39;00m, keepdims\u001b[39m=\u001b[39mnp\u001b[39m.\u001b[39m_NoValue,\n\u001b[1;32m   2929\u001b[0m          initial\u001b[39m=\u001b[39mnp\u001b[39m.\u001b[39m_NoValue, where\u001b[39m=\u001b[39mnp\u001b[39m.\u001b[39m_NoValue):\n\u001b[1;32m   2930\u001b[0m     \u001b[39m\"\"\"\u001b[39;00m\n\u001b[1;32m   2931\u001b[0m \u001b[39m    Return the product of array elements over a given axis.\u001b[39;00m\n\u001b[1;32m   2932\u001b[0m \n\u001b[0;32m   (...)\u001b[0m\n\u001b[1;32m   3043\u001b[0m \u001b[39m    10\u001b[39;00m\n\u001b[1;32m   3044\u001b[0m \u001b[39m    \"\"\"\u001b[39;00m\n\u001b[1;32m   3045\u001b[0m     \u001b[39mreturn\u001b[39;00m _wrapreduction(a, np\u001b[39m.\u001b[39mmultiply, \u001b[39m'\u001b[39m\u001b[39mprod\u001b[39m\u001b[39m'\u001b[39m, axis, dtype, out,\n\u001b[1;32m   3046\u001b[0m                           keepdims\u001b[39m=\u001b[39mkeepdims, initial\u001b[39m=\u001b[39minitial, where\u001b[39m=\u001b[39mwhere)\n",
      "\u001b[0;31mKeyboardInterrupt\u001b[0m: "
     ]
    }
   ],
   "source": [
    "# loop over all particles\n",
    "for i in trange(N):\n",
    "    # loop the iterion steps -> only loop over the longest time, and save the data from the intermediate steps\n",
    "    max_steps = int(np.max(Iteration_Steps))\n",
    "    # init particle\n",
    "    x = x0\n",
    "    for s in range(max_steps):\n",
    "        # loop over all steps\n",
    "        x = updatePos(x)\n",
    "        # x = checkBoundary(x, L)\n",
    "\n",
    "        # !! CHECK THE BOUNDARY PART OF THE EXERCISE !!\n",
    "        \n",
    "        # save the final x if s is in the Iteration_Steps\n",
    "        if s in Iteration_Steps:\n",
    "            # find at which index s is in Iteration_Steps\n",
    "            index = np.where(Iteration_Steps == s)[0][0]\n",
    "            # save the x at the index\n",
    "            trajectories[i, index] = x\n",
    "        if s == max_steps-1:\n",
    "            trajectories[i, -1] = x\n",
    "\n"
   ]
  },
  {
   "cell_type": "code",
   "execution_count": null,
   "metadata": {},
   "outputs": [],
   "source": [
    "# save the trajectories to a file\n",
    "if(1):\n",
    "    np.savetxt('trajectories.npy', trajectories)\n"
   ]
  },
  {
   "cell_type": "code",
   "execution_count": null,
   "metadata": {},
   "outputs": [],
   "source": [
    "# load the trajectories from a file\n",
    "trajectories = np.loadtxt('trajectories.npy')\n",
    "\n",
    "# plot the trajectories in one histogram\n",
    "fig, ax = plt.subplots(figsize=(8, 6))\n",
    "plt.hist(trajectories[:, 0], bins=100, density=True, label='T = 10')\n",
    "plt.hist(trajectories[:, 1], bins=100, density=True, label='T = 100')\n",
    "plt.hist(trajectories[:, 2], bins=100, density=True, label='T = 1000')\n",
    "plt.hist(trajectories[:, 3], bins=100, density=True, label='T = 10000')\n",
    "# plt.hist(trajectories[:, 4], bins=100, density=True, label='T = 100000')\n",
    "plt.legend()\n",
    "ax.set_yticklabels([])\n",
    "plt.show()\n",
    "\n",
    "\n"
   ]
  }
 ],
 "metadata": {
  "kernelspec": {
   "display_name": "Python 3",
   "language": "python",
   "name": "python3"
  },
  "language_info": {
   "codemirror_mode": {
    "name": "ipython",
    "version": 3
   },
   "file_extension": ".py",
   "mimetype": "text/x-python",
   "name": "python",
   "nbconvert_exporter": "python",
   "pygments_lexer": "ipython3",
   "version": "3.10.12"
  }
 },
 "nbformat": 4,
 "nbformat_minor": 2
}
