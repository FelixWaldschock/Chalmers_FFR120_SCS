{
 "cells": [
  {
   "cell_type": "markdown",
   "metadata": {},
   "source": [
    "FFR 120  \n",
    "Felix Waldschock\n",
    "\n",
    "HW 2  \n",
    "Exercise 7.6"
   ]
  },
  {
   "cell_type": "code",
   "execution_count": 92,
   "metadata": {},
   "outputs": [],
   "source": [
    "import numpy as np\n",
    "import matplotlib.pyplot as plt\n",
    "import scienceplots\n",
    "plt.style.use(['science','grid'])\n",
    "from tqdm import trange\n"
   ]
  },
  {
   "cell_type": "code",
   "execution_count": 93,
   "metadata": {},
   "outputs": [],
   "source": [
    "# parameters\n",
    "n_drift = 50\n",
    "n_diff = 2\n",
    "\n",
    "L = 100         # length of the box\n",
    "sigma = 1       \n",
    "dT = 0.1\n",
    "dT = 1\n",
    "x0 = 0          # initial position of the particle\n",
    "alpha = 1\n",
    "sigma0 = 1\n",
    "dSigma = 1.8 \n",
    "\n"
   ]
  },
  {
   "cell_type": "code",
   "execution_count": 94,
   "metadata": {},
   "outputs": [],
   "source": [
    "# Simulation parameters\n",
    "N = 10000                                   # number of trajectiories (particles)\n",
    "#T_tot = [10, 100, 1000, 10000, 100000]      # total time\n",
    "T_tot = [10, 100, 1000, 10000]              # total time\n",
    "T_tot = np.array(T_tot)\n",
    "Iteration_Steps = T_tot * (1 / dT)          # total number of steps \n",
    "max_steps = int(np.max(Iteration_Steps))    # maximum number of steps\n",
    "\n",
    "trajectories = np.zeros((N, len(T_tot)))    # array to store trajectories  \n",
    "sigmas = np.zeros(N)\n",
    "\n"
   ]
  },
  {
   "cell_type": "code",
   "execution_count": 95,
   "metadata": {},
   "outputs": [],
   "source": [
    "def getDrift(x, x_old):\n",
    "    return np.mean(x - x_old) / (n_drift * dT)"
   ]
  },
  {
   "cell_type": "code",
   "execution_count": 96,
   "metadata": {},
   "outputs": [],
   "source": [
    "def getDiff(x, x_old):\n",
    "    return np.mean((x - x_old)**2) / (2*n_diff * dT)"
   ]
  },
  {
   "cell_type": "code",
   "execution_count": 97,
   "metadata": {},
   "outputs": [],
   "source": [
    "# constant noise simulation ex 7.2\n",
    "\n",
    "def simulate_trajectory_constant(N, max_steps, L):\n",
    "    x = np.zeros(N)*x0\n",
    "    x_old_drift = np.ones(N)*x0\n",
    "    x_old_diff = np.ones(N)*x0\n",
    "    trajectories = np.zeros((N, len(T_tot)))            # array to store trajectories  \n",
    "    sigmas_ = np.zeros(N)                               # array to store sigmas\n",
    "    drift = np.zeros((int(max_steps/n_drift),2))                         # array to store drift\n",
    "    diffusion = np.zeros((int(max_steps/n_diff),2))                      # array to store diffusion\n",
    "\n",
    "    for s in trange(max_steps):\n",
    "        # calc new sigma\n",
    "        o = sigma + np.sqrt(dT)\n",
    "        directions = np.random.choice([-1, 1], N)\n",
    "        x += directions * o\n",
    "        \n",
    "        # check boundaries and apply correction\n",
    "        x = np.where(x < -L/2, -L - x, x)\n",
    "        x = np.where(x > L/2, L - x, x)\n",
    "\n",
    "        # calc drift and diffusion\n",
    "        drift[int(s/n_drift)] = getDrift(x, x_old_drift), np.mean(x)\n",
    "        diffusion[int(s/n_diff)] = getDiff(x, x_old_diff), np.mean(x)\n",
    "\n",
    "        if (s%n_drift == 0):\n",
    "            x_old_drift = x.copy()\n",
    "        \n",
    "        if (s%n_diff == 0):\n",
    "            x_old_diff = x.copy()\n",
    "        \n",
    "        if s in Iteration_Steps:\n",
    "            index = np.where(Iteration_Steps == s)[0][0]\n",
    "            trajectories[:, index] = x\n",
    "\n",
    "        \n",
    "\n",
    "    trajectories[:, -1] = x\n",
    "    sigmas_[:] = sigma\n",
    "\n",
    "    return trajectories, sigmas_, drift, diffusion\n",
    "\n"
   ]
  },
  {
   "cell_type": "code",
   "execution_count": 98,
   "metadata": {},
   "outputs": [],
   "source": [
    "# multiplicative noise \n",
    "def simulate_trajectory_multiplicative(N, max_steps, L, alpha):\n",
    "    x = np.ones(N)*x0\n",
    "    x_old_drift = np.ones(N)*x0\n",
    "    x_old_diff = np.ones(N)*x0\n",
    "    trajectories = np.zeros((N, len(T_tot)))            # array to store trajectories  \n",
    "    sigmas_ = np.zeros(N)                               # array to store sigmas\n",
    "    drift = np.zeros((int(max_steps/n_drift),2))                         # array to store drift\n",
    "    diffusion = np.zeros((int(max_steps/n_diff),2))                      # array to store diffusion\n",
    "\n",
    "    for s in trange(max_steps):\n",
    "        \n",
    "        # get new noise\n",
    "        sigma = np.zeros(N)\n",
    "        # multiplicative noise\n",
    "        tmp1 = sigma0 + dSigma*x/L\n",
    "        tmp2 = dSigma * dT / L\n",
    "        tmp3 = tmp1 * np.sqrt(dT)\n",
    "        direction = np.random.choice([-1,1], N)\n",
    "        sigma = alpha * tmp1 * tmp2 + tmp3 * direction\n",
    "        \n",
    "        x += sigma\n",
    "\n",
    "        # check boundaries and apply correction\n",
    "        x = np.where(x < -L/2, -L - x, x)\n",
    "        x = np.where(x > L/2, L - x, x)\n",
    "\n",
    "        # calc drift and diffusion\n",
    "        drift[int(s/n_drift)] = getDrift(x, x_old_drift), np.mean(x)\n",
    "        diffusion[int(s/n_diff)] = getDiff(x, x_old_diff), np.mean(x)\n",
    "\n",
    "        if (s%n_drift == 0):\n",
    "            x_old_drift = x.copy()\n",
    "        \n",
    "        if (s%n_diff == 0):\n",
    "            x_old_diff = x.copy()\n",
    "\n",
    "        if s in Iteration_Steps:\n",
    "            index = np.where(Iteration_Steps == s)[0][0]\n",
    "            trajectories[:, index] = x\n",
    "\n",
    "    trajectories[:, -1] = x\n",
    "    sigmas_ = sigma\n",
    "\n",
    "    return trajectories, sigmas_, drift, diffusion\n"
   ]
  },
  {
   "cell_type": "code",
   "execution_count": 99,
   "metadata": {},
   "outputs": [
    {
     "name": "stderr",
     "output_type": "stream",
     "text": [
      "100%|██████████| 10000/10000 [00:01<00:00, 8922.56it/s]\n"
     ]
    }
   ],
   "source": [
    "# Run constant simulation\n",
    "trajectories_constant, sigmas_constant, drift_constant, diffusion_constant = simulate_trajectory_constant(N, max_steps, L)\n"
   ]
  },
  {
   "cell_type": "code",
   "execution_count": 100,
   "metadata": {},
   "outputs": [
    {
     "name": "stderr",
     "output_type": "stream",
     "text": [
      "100%|██████████| 10000/10000 [00:01<00:00, 7052.21it/s]\n"
     ]
    }
   ],
   "source": [
    "# Run multiplicative simulation\n",
    "trajectories_multiplicative, sigmas_multiplicative, drift_multiplicative, diffusion_multiplicative = simulate_trajectory_multiplicative(N, max_steps, L, alpha)"
   ]
  },
  {
   "cell_type": "code",
   "execution_count": 103,
   "metadata": {},
   "outputs": [
    {
     "data": {
      "text/plain": [
       "(array([[0., 0., 0., ..., 0., 0., 0.],\n",
       "        [0., 0., 0., ..., 0., 0., 0.],\n",
       "        [0., 0., 0., ..., 0., 0., 0.],\n",
       "        ...,\n",
       "        [0., 0., 0., ..., 0., 0., 0.],\n",
       "        [0., 0., 0., ..., 0., 0., 0.],\n",
       "        [0., 0., 0., ..., 0., 0., 0.]]),\n",
       " array([-0.7512  , -0.723056, -0.694912, -0.666768, -0.638624, -0.61048 ,\n",
       "        -0.582336, -0.554192, -0.526048, -0.497904, -0.46976 , -0.441616,\n",
       "        -0.413472, -0.385328, -0.357184, -0.32904 , -0.300896, -0.272752,\n",
       "        -0.244608, -0.216464, -0.18832 , -0.160176, -0.132032, -0.103888,\n",
       "        -0.075744, -0.0476  , -0.019456,  0.008688,  0.036832,  0.064976,\n",
       "         0.09312 ,  0.121264,  0.149408,  0.177552,  0.205696,  0.23384 ,\n",
       "         0.261984,  0.290128,  0.318272,  0.346416,  0.37456 ,  0.402704,\n",
       "         0.430848,  0.458992,  0.487136,  0.51528 ,  0.543424,  0.571568,\n",
       "         0.599712,  0.627856,  0.656   ]),\n",
       " <a list of 200 BarContainer objects>)"
      ]
     },
     "execution_count": 103,
     "metadata": {},
     "output_type": "execute_result"
    },
    {
     "data": {
      "image/png": "[encoded data removed]",
      "text/plain": [
       "<Figure size 350x262.5 with 1 Axes>"
      ]
     },
     "metadata": {},
     "output_type": "display_data"
    }
   ],
   "source": [
    "# plot the drift and the diffusion in a 2 x 3 subplot\n",
    "#fig, ax = plt.subplots(2, 3, figsize=(12, 8))\n",
    "bins = 50\n",
    "\n",
    "# plot the drift\n",
    "plt.hist(drift_constant.T, bins=bins, density=True, label='constant noise')\n",
    "# ax[0,1].hist(drift_multiplicative.T, bins=bins, density=True, label='multiplicative noise')\n",
    "#plt.scatter(drift_constant[:,1], drift_constant[:,0], label='constant noise')\n",
    "#plt.scatter(drift_multiplicative[:,1], drift_multiplicative[:,0], label='multiplicative noise')"
   ]
  }
 ],
 "metadata": {
  "kernelspec": {
   "display_name": "Python 3",
   "language": "python",
   "name": "python3"
  },
  "language_info": {
   "codemirror_mode": {
    "name": "ipython",
    "version": 3
   },
   "file_extension": ".py",
   "mimetype": "text/x-python",
   "name": "python",
   "nbconvert_exporter": "python",
   "pygments_lexer": "ipython3",
   "version": "3.10.12"
  }
 },
 "nbformat": 4,
 "nbformat_minor": 2
}
