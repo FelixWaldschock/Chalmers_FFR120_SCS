{
 "cells": [
  {
   "cell_type": "markdown",
   "metadata": {},
   "source": [
    "FFR 120  \n",
    "Felix Waldschock\n",
    "\n",
    "HW 2  \n",
    "Exercise 7.4"
   ]
  },
  {
   "cell_type": "code",
   "execution_count": 51,
   "metadata": {},
   "outputs": [],
   "source": [
    "import numpy as np\n",
    "import matplotlib.pyplot as plt\n",
    "import scienceplots\n",
    "plt.style.use(['science','grid'])\n",
    "from tqdm import trange\n"
   ]
  },
  {
   "cell_type": "code",
   "execution_count": 52,
   "metadata": {},
   "outputs": [],
   "source": [
    "# parameters\n",
    "alpha = 0.5\n",
    "sigma0 = 1\n",
    "dSigma = 1.8 \n",
    "L = 100\n",
    "dT = 0.01\n",
    "x0 = 0\n"
   ]
  },
  {
   "cell_type": "code",
   "execution_count": 53,
   "metadata": {},
   "outputs": [],
   "source": [
    "def getSpuriousDrift(x, dt):\n",
    "    return alpha * dSigma / L"
   ]
  },
  {
   "cell_type": "code",
   "execution_count": 54,
   "metadata": {},
   "outputs": [],
   "source": [
    "def getSigma(x):\n",
    "    return sigma0 + dSigma*x/L"
   ]
  },
  {
   "cell_type": "code",
   "execution_count": 55,
   "metadata": {},
   "outputs": [],
   "source": [
    "def update(x):\n",
    "    # x comes as an array of size N\n",
    "    sigma = getSigma(x)\n",
    "    o = sigma + np.sqrt(dT)\n",
    "    directions = np.random.choice([-1, 1], N)\n",
    "    o = o * directions  \n",
    "    x = x + getSpuriousDrift(x) + o"
   ]
  },
  {
   "cell_type": "code",
   "execution_count": 56,
   "metadata": {},
   "outputs": [],
   "source": [
    "# 1. Simulation with alpha = 0.5\n",
    "alpha = 0.5                                 # spurious drift coefficient\n",
    "N = 10000                                   # number of trajectiories (particles)\n",
    "T_tot = [10, 100, 1000, 10000]              # total time\n",
    "T_tot = np.array(T_tot)\n",
    "Iteration_Steps = T_tot * (1 / dT)          # total number of steps \n",
    "\n",
    "max_steps = int(np.max(Iteration_Steps))\n"
   ]
  },
  {
   "cell_type": "code",
   "execution_count": 57,
   "metadata": {},
   "outputs": [
    {
     "name": "stderr",
     "output_type": "stream",
     "text": [
      "100%|██████████| 1000000/1000000 [02:59<00:00, 5585.25it/s]\n"
     ]
    }
   ],
   "source": [
    "# Run 1st Simulation \n",
    "\n",
    "def simulate_trajectory(N, max_steps, L):\n",
    "    x = np.zeros(N)*x0\n",
    "    trajectories = np.zeros((N, len(T_tot)))    # array to store trajectories  \n",
    "    sigmas_ = np.zeros(N)         # array to store sigmas\n",
    "    for s in trange(max_steps):\n",
    "        # calc new sigma\n",
    "        sigma = getSigma(x)\n",
    "        o = sigma + np.sqrt(dT)\n",
    "        directions = np.random.choice([-1, 1], N)\n",
    "\n",
    "        # spurious drift\n",
    "        spuriousDrift = getSpuriousDrift(x, dT)\n",
    "\n",
    "        x += directions * o\n",
    "        x += spuriousDrift\n",
    "        # check boundaries\n",
    "        x = np.where(x < -L/2, -L - x, x)\n",
    "        x = np.where(x > L/2, L - x, x)\n",
    "        \n",
    "        if s in Iteration_Steps:\n",
    "            index = np.where(Iteration_Steps == s)[0][0]\n",
    "            trajectories[:, index] = x\n",
    "\n",
    "    trajectories[:, -1] = x\n",
    "    sigmas_ = sigma\n",
    "\n",
    "    return trajectories, sigmas_\n",
    "\n",
    "trajectories, sigmas_ = simulate_trajectory(N, max_steps, L)\n"
   ]
  },
  {
   "cell_type": "code",
   "execution_count": 62,
   "metadata": {},
   "outputs": [],
   "source": [
    "# save the trajectories to a file\n",
    "if(1):\n",
    "    np.savetxt('trajectories_74_0-5.npy', trajectories)\n",
    "    np.savetxt('sigmas_74_0-5.npy', sigmas_)\n"
   ]
  },
  {
   "cell_type": "code",
   "execution_count": 64,
   "metadata": {},
   "outputs": [
    {
     "data": {
      "image/png": "[encoded data removed]",
      "text/plain": [
       "<Figure size 800x600 with 1 Axes>"
      ]
     },
     "metadata": {},
     "output_type": "display_data"
    },
    {
     "data": {
      "image/png": "[encoded data removed]",
      "text/plain": [
       "<Figure size 800x600 with 1 Axes>"
      ]
     },
     "metadata": {},
     "output_type": "display_data"
    }
   ],
   "source": [
    "# load the trajectories from a file\n",
    "trajectories = np.loadtxt('trajectories_74_0-5.npy')\n",
    "sigmas_ = np.loadtxt('sigmas_74_0-5.npy')\n",
    "bins = 100\n",
    "alpha_plot = 1\n",
    "\n",
    "# plot the trajectories in one histogram\n",
    "fig, ax = plt.subplots(figsize=(8, 6))\n",
    "plt.hist(trajectories[:, 0], bins=bins, density=True, label='T = 10', alpha=alpha_plot)\n",
    "plt.hist(trajectories[:, 1], bins=bins, density=True, label='T = 100', alpha=alpha_plot)\n",
    "plt.hist(trajectories[:, 2], bins=bins, density=True, label='T = 1000', alpha=alpha_plot)\n",
    "plt.hist(trajectories[:, 3], bins=bins, density=True, label='T = 10000', alpha=alpha_plot)\n",
    "# plt.hist(trajectories[:, 4], bins=100, density=True, label='T = 100000')\n",
    "plt.xlabel('x')\n",
    "plt.legend()\n",
    "ax.set_yticklabels([])\n",
    "plt.show()\n",
    "\n",
    "# plot the sigmas\n",
    "fig, ax = plt.subplots(figsize=(8, 6))\n",
    "plt.hist(sigmas_, bins=100, label='sigmas')\n",
    "plt.xlabel('x')\n",
    "ax.set_yticklabels([])\n",
    "plt.show()"
   ]
  },
  {
   "cell_type": "code",
   "execution_count": null,
   "metadata": {},
   "outputs": [],
   "source": [
    "# print the means of the trajectories\n",
    "print('mean of the trajectories:')\n",
    "for i in range(len(T_tot)):\n",
    "    print('T = {}: {}'.format(T_tot[i], np.mean(trajectories[:, i])))"
   ]
  }
 ],
 "metadata": {
  "kernelspec": {
   "display_name": "Python 3",
   "language": "python",
   "name": "python3"
  },
  "language_info": {
   "codemirror_mode": {
    "name": "ipython",
    "version": 3
   },
   "file_extension": ".py",
   "mimetype": "text/x-python",
   "name": "python",
   "nbconvert_exporter": "python",
   "pygments_lexer": "ipython3",
   "version": "3.10.12"
  }
 },
 "nbformat": 4,
 "nbformat_minor": 2
}
