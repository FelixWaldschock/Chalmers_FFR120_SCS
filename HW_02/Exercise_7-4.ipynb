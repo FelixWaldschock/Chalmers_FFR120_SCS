{
 "cells": [
  {
   "cell_type": "markdown",
   "metadata": {},
   "source": [
    "FFR 120  \n",
    "Felix Waldschock\n",
    "\n",
    "HW 2  \n",
    "Exercise 7.4"
   ]
  },
  {
   "cell_type": "code",
   "execution_count": 1,
   "metadata": {},
   "outputs": [],
   "source": [
    "import numpy as np\n",
    "import matplotlib.pyplot as plt\n",
    "import scienceplots\n",
    "plt.style.use(['science','grid'])\n",
    "from tqdm import trange\n"
   ]
  },
  {
   "cell_type": "code",
   "execution_count": 2,
   "metadata": {},
   "outputs": [],
   "source": [
    "# parameters\n",
    "alpha = 0.5\n",
    "sigma0 = 1\n",
    "dSigma = 1.8 \n",
    "L = 100\n",
    "dT = 0.1\n",
    "x0 = 0\n"
   ]
  },
  {
   "cell_type": "code",
   "execution_count": 3,
   "metadata": {},
   "outputs": [],
   "source": [
    "def getSpuriousDrift(x, dt):\n",
    "    return alpha * dSigma / L"
   ]
  },
  {
   "cell_type": "code",
   "execution_count": 4,
   "metadata": {},
   "outputs": [],
   "source": [
    "def getSigma(x):\n",
    "    return sigma0 + dSigma*x/L"
   ]
  },
  {
   "cell_type": "code",
   "execution_count": 5,
   "metadata": {},
   "outputs": [],
   "source": [
    "def update(x):\n",
    "    # x comes as an array of size N\n",
    "    sigma = getSigma(x)\n",
    "    o = sigma + np.sqrt(dT)\n",
    "    directions = np.random.choice([-1, 1], N)\n",
    "    o = o * directions  \n",
    "    x = x + sigma * getSpuriousDrift(x) + o"
   ]
  },
  {
   "cell_type": "code",
   "execution_count": 6,
   "metadata": {},
   "outputs": [],
   "source": [
    "# 1. Simulation with alpha = 0.5\n",
    "alpha = 0.5                                 # spurious drift coefficient\n",
    "N = 10000                                   # number of trajectiories (particles)\n",
    "T_tot = [10, 100, 1000, 10000, 100000]      # total time\n",
    "\n",
    "T_tot = np.array(T_tot)\n",
    "Iteration_Steps = T_tot * (1 / dT)          # total number of steps \n",
    "\n",
    "max_steps = int(np.max(Iteration_Steps))\n"
   ]
  },
  {
   "cell_type": "code",
   "execution_count": 7,
   "metadata": {},
   "outputs": [],
   "source": [
    "def simulate_trajectory(N, max_steps, L, alpha):\n",
    "    x = np.ones(N)*x0\n",
    "    trajectories = np.zeros((N, len(T_tot)))    # array to store trajectories  \n",
    "    sigmas_ = np.zeros(N)                       # array to store sigmas\n",
    "        \n",
    "    for s in trange(max_steps):\n",
    "        \n",
    "        # get new noise\n",
    "        sigma = np.zeros(N)\n",
    "        # multiplicative noise\n",
    "        tmp1 = sigma0 + dSigma*x/L\n",
    "        tmp2 = dSigma * dT / L\n",
    "        tmp3 = tmp1 * np.sqrt(dT)\n",
    "        direction = np.random.choice([-1,1], N)\n",
    "        sigma = alpha * tmp1 * tmp2 + tmp3 * direction\n",
    "        \n",
    "        x += sigma\n",
    "\n",
    "        # check boundaries and apply correction\n",
    "        x = np.where(x < -L/2, -L - x, x)\n",
    "        x = np.where(x > L/2, L - x, x)\n",
    "  \n",
    "        if s in Iteration_Steps:\n",
    "            index = np.where(Iteration_Steps == s)[0][0]\n",
    "            trajectories[:, index] = x\n",
    "\n",
    "\n",
    "\n",
    "    trajectories[:, -1] = x\n",
    "    sigmas_ = sigma\n",
    "\n",
    "    return trajectories, sigmas_\n"
   ]
  },
  {
   "cell_type": "code",
   "execution_count": 8,
   "metadata": {},
   "outputs": [
    {
     "name": "stderr",
     "output_type": "stream",
     "text": [
      "100%|██████████| 1000000/1000000 [01:50<00:00, 9051.39it/s]\n"
     ]
    }
   ],
   "source": [
    "# Run 1st simulation\n",
    "alpha = 0.5\n",
    "if(1):\n",
    "    trajectories, sigmas_ = simulate_trajectory(N, max_steps, L, alpha)\n",
    "\n",
    "if (1):\n",
    "    # save trajectories\n",
    "    np.save('Simulated_Data/trajectories_74_0-5.npy', trajectories)\n",
    "    np.save('Simulated_Data/sigmas_74_0-5.npy', sigmas_)"
   ]
  },
  {
   "cell_type": "code",
   "execution_count": 9,
   "metadata": {},
   "outputs": [
    {
     "data": {
      "image/png": "[encoded data removed]",
      "text/plain": [
       "<Figure size 800x600 with 1 Axes>"
      ]
     },
     "metadata": {},
     "output_type": "display_data"
    },
    {
     "data": {
      "image/png": "[encoded data removed]",
      "text/plain": [
       "<Figure size 350x262.5 with 1 Axes>"
      ]
     },
     "metadata": {},
     "output_type": "display_data"
    }
   ],
   "source": [
    "# load the trajectories from a file\n",
    "trajectories = np.load('Simulated_Data/trajectories_74_0-5.npy')\n",
    "sigmas_ = np.load('Simulated_Data/sigmas_74_0-5.npy')\n",
    "bins = 100\n",
    "alpha_plot = 1\n",
    "\n",
    "# plot the trajectories in one histogram\n",
    "fig, ax = plt.subplots(figsize=(8, 6))\n",
    "plt.hist(trajectories[:, 0], bins=bins, density=True, label='T = 10', alpha=alpha_plot)\n",
    "plt.hist(trajectories[:, 1], bins=bins, density=True, label='T = 100', alpha=alpha_plot)\n",
    "plt.hist(trajectories[:, 2], bins=bins, density=True, label='T = 1000', alpha=alpha_plot)\n",
    "plt.hist(trajectories[:, 3], bins=bins, density=True, label='T = 10000', alpha=alpha_plot)\n",
    "plt.hist(trajectories[:, 4], bins=bins, density=True, label='T = 100000', alpha=alpha_plot)\n",
    "plt.xlabel('x')\n",
    "plt.legend()\n",
    "#ax.set_yticklabels([])\n",
    "plt.show()\n",
    "\n",
    "# plot the last distribution\n",
    "plt.hist(trajectories[:, -1], bins=bins, density=True, label='T = 100000', alpha=alpha_plot)\n",
    "plt.xlabel('x')\n",
    "plt.ylabel('$P(x)$')\n",
    "plt.legend()\n",
    "plt.show()"
   ]
  },
  {
   "cell_type": "code",
   "execution_count": 10,
   "metadata": {},
   "outputs": [
    {
     "name": "stdout",
     "output_type": "stream",
     "text": [
      "mean of the trajectories:\n",
      "T = 10: 0.05452799603083194\n",
      "T = 100: 0.7253066766317706\n",
      "T = 1000: 1.5008849357055956\n",
      "T = 10000: -17.24887225329445\n",
      "T = 100000: -21.53445365446899\n"
     ]
    }
   ],
   "source": [
    "# print the means of the trajectories\n",
    "print('mean of the trajectories:')\n",
    "for i in range(len(T_tot)):\n",
    "    print('T = {}: {}'.format(T_tot[i], np.mean(trajectories[:, i])))"
   ]
  },
  {
   "cell_type": "markdown",
   "metadata": {},
   "source": [
    "7.4 -> $\\alpha = 1$"
   ]
  },
  {
   "cell_type": "code",
   "execution_count": 11,
   "metadata": {},
   "outputs": [],
   "source": [
    "# 1. Simulation with alpha = 1\n",
    "alpha = 1                                 # spurious drift coefficient\n",
    "N = 10000                                   # number of trajectories (particles)\n",
    "T_tot = [10, 100, 1000, 10000]              # total time\n",
    "T_tot = [10, 100, 1000, 10000, 100000]      # total time\n",
    "T_tot = np.array(T_tot)\n",
    "Iteration_Steps = T_tot * (1 / dT)          # total number of steps \n",
    "\n",
    "max_steps = int(np.max(Iteration_Steps))\n",
    "\n",
    "# Store the time series trajectory in a tensor\n",
    "trajectoryTensor = np.zeros((N, max_steps))\n"
   ]
  },
  {
   "cell_type": "code",
   "execution_count": 12,
   "metadata": {},
   "outputs": [
    {
     "name": "stderr",
     "output_type": "stream",
     "text": [
      "100%|██████████| 1000000/1000000 [01:46<00:00, 9428.23it/s]\n"
     ]
    }
   ],
   "source": [
    "# Run simulation\n",
    "if(1):\n",
    "    trajectories, sigmas_ = simulate_trajectory(N, max_steps, L,alpha)\n",
    "\n",
    "# save the trajectories to a file\n",
    "if (1):\n",
    "    # save trajectories\n",
    "    np.save('Simulated_Data/trajectories_74_1.npy', trajectories)\n",
    "    np.save('Simulated_Data/sigmas_74_1.npy', sigmas_)"
   ]
  },
  {
   "cell_type": "code",
   "execution_count": 13,
   "metadata": {},
   "outputs": [
    {
     "data": {
      "image/png": "[encoded data removed]",
      "text/plain": [
       "<Figure size 800x600 with 1 Axes>"
      ]
     },
     "metadata": {},
     "output_type": "display_data"
    },
    {
     "data": {
      "image/png": "[encoded data removed]",
      "text/plain": [
       "<Figure size 350x262.5 with 1 Axes>"
      ]
     },
     "metadata": {},
     "output_type": "display_data"
    }
   ],
   "source": [
    "# load the trajectories from a file\n",
    "trajectories = np.load('Simulated_Data/trajectories_74_1.npy')\n",
    "sigmas_ = np.load('Simulated_Data/sigmas_74_1.npy')\n",
    "bins = 100\n",
    "alpha_plot = 1\n",
    "\n",
    "# plot the trajectories in one histogram\n",
    "fig, ax = plt.subplots(figsize=(8, 6))\n",
    "plt.hist(trajectories[:, 0], bins=bins, density=True, label='T = 10', alpha=alpha_plot)\n",
    "plt.hist(trajectories[:, 1], bins=bins, density=True, label='T = 100', alpha=alpha_plot)\n",
    "plt.hist(trajectories[:, 2], bins=bins, density=True, label='T = 1000', alpha=alpha_plot)\n",
    "plt.hist(trajectories[:, 3], bins=bins, density=True, label='T = 10000', alpha=alpha_plot)\n",
    "plt.hist(trajectories[:, 4], bins=bins, density=True, label='T = 100000', alpha=alpha_plot)\n",
    "plt.xlabel('x')\n",
    "plt.legend()\n",
    "ax.set_yticklabels([])\n",
    "plt.show()\n",
    "\n",
    "# plot the last distribution\n",
    "plt.hist(trajectories[:, -1], bins=bins, density=True, label='T = 100000', alpha=alpha_plot)\n",
    "plt.xlabel('x')\n",
    "plt.ylabel('$P(x)$')\n",
    "plt.legend()\n",
    "plt.show()"
   ]
  },
  {
   "cell_type": "code",
   "execution_count": 14,
   "metadata": {},
   "outputs": [
    {
     "name": "stdout",
     "output_type": "stream",
     "text": [
      "mean of the trajectories:\n",
      "T = 10: 0.09660240400439665\n",
      "T = 100: 1.78286978703775\n",
      "T = 1000: 7.691147282033042\n",
      "T = 10000: 0.9935522656952431\n",
      "T = 100000: -0.9380389400262494\n"
     ]
    }
   ],
   "source": [
    "# print the means of the trajectories\n",
    "print('mean of the trajectories:')\n",
    "for i in range(len(T_tot)):\n",
    "    print('T = {}: {}'.format(T_tot[i], np.mean(trajectories[:, i])))"
   ]
  }
 ],
 "metadata": {
  "kernelspec": {
   "display_name": "Python 3",
   "language": "python",
   "name": "python3"
  },
  "language_info": {
   "codemirror_mode": {
    "name": "ipython",
    "version": 3
   },
   "file_extension": ".py",
   "mimetype": "text/x-python",
   "name": "python",
   "nbconvert_exporter": "python",
   "pygments_lexer": "ipython3",
   "version": "3.10.12"
  }
 },
 "nbformat": 4,
 "nbformat_minor": 2
}
