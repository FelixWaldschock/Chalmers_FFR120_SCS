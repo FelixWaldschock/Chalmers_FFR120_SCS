{
 "cells": [
  {
   "cell_type": "markdown",
   "metadata": {},
   "source": [
    "FFR 120  \n",
    "Felix Waldschock\n",
    "\n",
    "HW 2  \n",
    "Exercise 7.6"
   ]
  },
  {
   "cell_type": "code",
   "execution_count": 1,
   "metadata": {},
   "outputs": [],
   "source": [
    "import numpy as np\n",
    "import matplotlib.pyplot as plt\n",
    "import scienceplots\n",
    "plt.style.use(['science','grid'])\n",
    "from tqdm import trange\n"
   ]
  },
  {
   "cell_type": "code",
   "execution_count": 2,
   "metadata": {},
   "outputs": [],
   "source": [
    "# Simulation parameters\n",
    "L = 100                                     # length of the box\n",
    "sigma = 1\n",
    "dT = .01\n",
    "\n",
    "N = 1000                                    # number of trajectiories (particles)\n",
    "T_tot = [1000]                              # total time\n",
    "T_tot = np.array(T_tot)\n",
    "Iteration_Steps = T_tot * (1 / dT)          # total number of steps \n",
    "max_steps = int(np.max(Iteration_Steps))    # maximum number of steps\n",
    "\n",
    "# parameters\n",
    "n_drift = 15\n",
    "n_diff = 1\n",
    "\n",
    "x0 = 0                                      # initial position of the particle\n",
    "alpha = 1\n",
    "sigma0 = 1\n",
    "dSigma = 1.8 \n",
    "\n",
    "numberOfIntervalls = 100\n",
    "Lk = L / numberOfIntervalls\n",
    "IntervallCenters = np.linspace(0, (numberOfIntervalls-1)*Lk, numberOfIntervalls) + Lk/2 - L/2\n"
   ]
  },
  {
   "cell_type": "code",
   "execution_count": 3,
   "metadata": {},
   "outputs": [],
   "source": [
    "# constant noise simulation ex 7.2, create a trajectory matrix containing trajectories of all particles\n",
    "\n",
    "def simulate_trajectory_constant(N, max_steps, L):\n",
    "    # x = np.zeros(N)*x0\n",
    "    x = np.random.uniform(-L/2, L/2, N)\n",
    "    \n",
    "    trajectories = np.zeros((N, len(T_tot)))                             # array to store trajectories  \n",
    "    sigmas_ = np.zeros(N)                                                # array to store sigmas\n",
    "        \n",
    "    trajectoryTensor = np.zeros((N, max_steps))\n",
    "\n",
    "    for s in trange(max_steps):\n",
    "        # calc new sigma\n",
    "        o = sigma * np.sqrt(dT)\n",
    "        directions = np.random.choice([-1, 1], N)\n",
    "        x += directions * o\n",
    "        \n",
    "        # check boundaries and apply correction\n",
    "        x = np.where(x < -L/2, -L - x, x)\n",
    "        x = np.where(x > L/2, L - x, x)\n",
    "        \n",
    "        trajectoryTensor[:,s] = x\n",
    "    \n",
    "    trajectories[:, -1] = x\n",
    "    sigmas_[:] = sigma\n",
    "\n",
    "    \n",
    "    return trajectories, sigmas_, trajectoryTensor"
   ]
  },
  {
   "cell_type": "code",
   "execution_count": 4,
   "metadata": {},
   "outputs": [],
   "source": [
    "# multiplicative noise \n",
    "def simulate_trajectory_multiplicative(N, max_steps, L, alpha):\n",
    "    #x = np.ones(N)*x0\n",
    "    x = np.random.uniform(-L/2, L/2, N)\n",
    "\n",
    "    trajectories = np.zeros((N, len(T_tot)))                            # array to store trajectories  \n",
    "    sigmas_ = np.zeros(N)                                               # array to store sigmas\n",
    " \n",
    "    trajectoryTensor = np.zeros((N, max_steps))\n",
    "\n",
    "    for s in trange(max_steps):\n",
    "        \n",
    "        # get new noise\n",
    "        sigma = np.zeros(N)\n",
    "        # multiplicative noise\n",
    "        tmp1 = sigma0 + dSigma*x/L\n",
    "        tmp2 = dSigma * dT / L\n",
    "        tmp3 = tmp1 * np.sqrt(dT)\n",
    "        direction = np.random.choice([-1,1], N)\n",
    "        sigma = alpha * tmp1 * tmp2 + tmp3 * direction\n",
    "        \n",
    "        x += sigma\n",
    "\n",
    "        # check boundaries and apply correction\n",
    "        x = np.where(x < -L/2, -L - x, x)\n",
    "        x = np.where(x > L/2, L - x, x)\n",
    "\n",
    "        trajectoryTensor[:,s] = x\n",
    "    \n",
    "        if s in Iteration_Steps:\n",
    "            index = np.where(Iteration_Steps == s)[0][0]\n",
    "            trajectories[:, index] = x\n",
    "\n",
    "    trajectories[:, -1] = x\n",
    "    sigmas_ = sigma\n",
    "\n",
    "    return trajectories, sigmas_, trajectoryTensor\n"
   ]
  },
  {
   "cell_type": "code",
   "execution_count": 5,
   "metadata": {},
   "outputs": [
    {
     "name": "stderr",
     "output_type": "stream",
     "text": [
      "100%|█████████████████████| 100000/100000 [00:02<00:00, 45673.07it/s]\n"
     ]
    }
   ],
   "source": [
    "# Run constant simulation\n",
    "trajectories_constant, sigmas_constant, trajectoryTensor_constant = simulate_trajectory_constant(N, max_steps, L)\n"
   ]
  },
  {
   "cell_type": "code",
   "execution_count": 6,
   "metadata": {},
   "outputs": [
    {
     "name": "stderr",
     "output_type": "stream",
     "text": [
      "100%|█████████████████████| 100000/100000 [00:03<00:00, 31621.47it/s]"
     ]
    },
    {
     "name": "stdout",
     "output_type": "stream",
     "text": [
      "(1000, 100000)\n"
     ]
    },
    {
     "name": "stderr",
     "output_type": "stream",
     "text": [
      "\n"
     ]
    }
   ],
   "source": [
    "# Run multiplicative simulation\n",
    "trajectories_multiplicative, sigmas_multiplicative, trajectoryTensor_multiplicative = simulate_trajectory_multiplicative(N, max_steps, L, alpha)\n",
    "print(trajectoryTensor_multiplicative.shape)"
   ]
  },
  {
   "cell_type": "code",
   "execution_count": 7,
   "metadata": {},
   "outputs": [],
   "source": [
    "def computeDriftDiff(trajectoryTensor, name):\n",
    "    # if a particle is in an intervall, check where it is after n_drift steps, use this difference to getDrift\n",
    "    drift = np.zeros(numberOfIntervalls)\n",
    "    driftCounter = np.ones(numberOfIntervalls)\n",
    "    diff = np.zeros(numberOfIntervalls)\n",
    "    diffCounter = np.ones(numberOfIntervalls)\n",
    "\n",
    "    # trajecoryTensor comes in dimension (N, max_steps)\n",
    "    numP = trajectoryTensor.shape[0]\n",
    "    numSteps = trajectoryTensor.shape[1]\n",
    "\n",
    "    # loop over all particles\n",
    "    for p in trange(numP):\n",
    "        # loop over all time steps\n",
    "            for s in range(numSteps-n_drift-1):\n",
    "                currentParticle = trajectoryTensor[p, s]\n",
    "                # check from which intervallCenter the particle lays < Lk/2 away\n",
    "                intervallIndex = np.where(np.abs(currentParticle - IntervallCenters) <= Lk/2)[0][0]\n",
    "\n",
    "                # check where the particle is after n_drift steps and add to drift array, increment counter\n",
    "                driftDifference = trajectoryTensor[p,s+n_drift] - currentParticle\n",
    "                diffDifference = trajectoryTensor[p,s+n_diff] - currentParticle\n",
    "\n",
    "                drift[intervallIndex] += driftDifference\n",
    "                if(driftDifference != 0):\n",
    "                    driftCounter[intervallIndex] += 1\n",
    "                diff[intervallIndex] += diffDifference**2\n",
    "                if(diffDifference != 0):\n",
    "                    diffCounter[intervallIndex] += 1\n",
    "\n",
    "\n",
    "    # save diff and diffCounter\n",
    "    np.save(\"diff_\"+name+\".npy\", diff)\n",
    "    np.save(\"diffCounter_\"+name+\".npy\", diffCounter)\n",
    "\n",
    "    # implement the formulas 7.13 / 7.14\n",
    "\n",
    "    # 7.13\n",
    "    drift = drift/driftCounter\n",
    "    drift = drift/(dT * n_drift)\n",
    "\n",
    "    # take average\n",
    "    diff = diff/diffCounter\n",
    "\n",
    "    diff = diff/(dT * n_diff *2)\n",
    "\n",
    "    #print(driftCounter)\n",
    "\n",
    "    if np.isnan(drift).all():\n",
    "        print(\"drift nan\")\n",
    "\n",
    "    # print(drift)\n",
    "\n",
    "    # if nan set to zero  \n",
    "    drift[np.isnan(drift)] = 0\n",
    "    diff[np.isnan(diff)] = 0\n",
    "\n",
    "    return drift, driftCounter, diff, diffCounter"
   ]
  },
  {
   "cell_type": "code",
   "execution_count": null,
   "metadata": {},
   "outputs": [
    {
     "name": "stderr",
     "output_type": "stream",
     "text": [
      " 34%|█████████▊                   | 339/1000 [01:42<03:42,  2.98it/s]"
     ]
    }
   ],
   "source": [
    "# compute the drift and diffusion for both simulation trajectories\n",
    "if(1):\n",
    "    drift_constant, driftCounter_const, diffusion_constant, diffCounter_const = computeDriftDiff(trajectoryTensor_constant,\"const\")\n",
    "\n"
   ]
  },
  {
   "cell_type": "code",
   "execution_count": null,
   "metadata": {},
   "outputs": [],
   "source": [
    "if(1):\n",
    "    drift_multiplicative, driftCounter_mult, diffusion_multiplicative, diffCounter_mult = computeDriftDiff(trajectoryTensor_multiplicative,\"mult\")\n"
   ]
  },
  {
   "cell_type": "code",
   "execution_count": null,
   "metadata": {},
   "outputs": [],
   "source": [
    "def getPosDerivate(array):\n",
    "    # get the derivative of the array in regard of the position\n",
    "    # returns the derivative array\n",
    "    derivative = np.zeros(len(array))\n",
    "    for i in range(1, len(array)):\n",
    "        derivative[i] = (array[i] - array[i-1]) / Lk\n",
    "    return derivative\n",
    "    "
   ]
  },
  {
   "cell_type": "code",
   "execution_count": null,
   "metadata": {},
   "outputs": [],
   "source": [
    "# calculate the noise induced drift -> derivative of the diffusion\n",
    "noiseInducedConstant = getPosDerivate(diffusion_constant)\n",
    "noiseInducedMultiplicative = getPosDerivate(diffusion_multiplicative)"
   ]
  },
  {
   "cell_type": "code",
   "execution_count": null,
   "metadata": {},
   "outputs": [],
   "source": [
    "# plot a 2x3 subplot\n",
    "fig, axs = plt.subplots(2, 4, figsize=(15,8))\n",
    "x_init = np.linspace(-L/2, L/2, N)\n",
    "\n",
    "# plot the constantDrift and conStantDiffusion in 1 and 2\n",
    "axs[0, 0].hist(trajectories_constant, bins=50, density=True, label='constant drift')\n",
    "axs[0, 0].set_title('Constant trajectory')\n",
    "axs[0, 0].set(ylabel='p(x)')\n",
    "\n",
    "axs[1, 0].hist(trajectories_multiplicative, bins=50, density=True, label='multiplicative trajectory')\n",
    "axs[1, 0].set_title('Multiplicative trajectory')\n",
    "axs[1, 0].set(ylabel='p(x)')\n",
    "\n",
    "axs[0, 1].plot(IntervallCenters,drift_constant, 'o',label='constant noise')\n",
    "axs[0, 1].set_title('Constant drift')\n",
    "axs[0, 1].set_ylim(-0.1, 0.1)\n",
    "\n",
    "axs[1, 1].plot(IntervallCenters,diffusion_constant,'o', label='constant noise')\n",
    "axs[1, 1].set_title('Constant diffusion')\n",
    "axs[1, 1].set_ylim(-0, 2)\n",
    "\n",
    "axs[0, 2].plot(IntervallCenters,drift_multiplicative, 'o', label='multiplicative noise')\n",
    "axs[0, 2].set_title('Multiplicative drift')\n",
    "axs[0, 2].set_ylim(-0.1, 0.1)\n",
    "\n",
    "axs[1, 2].plot(IntervallCenters,diffusion_multiplicative,'o', label='multiplicative noise')\n",
    "axs[1, 2].set_title('Multiplicative diffusion')\n",
    "axs[1, 2].set_ylim(-0, 2)\n",
    "\n",
    "axs[0, 3].plot(IntervallCenters,noiseInducedConstant, 'o',label='constant noise')\n",
    "axs[0, 3].set_title('Constant noise induced drift')\n",
    "axs[0, 3].set_ylim(-0.1, 0.1)\n",
    "\n",
    "axs[1, 3].plot(IntervallCenters,noiseInducedMultiplicative, 'o',label='multiplicative noise')\n",
    "axs[1, 3].set_title('Multiplicative noise induced drift')\n",
    "axs[1, 3].set_ylim(-0.1, 0.1)\n",
    "\n",
    "\n",
    "# set x label for all plots \"x\"\n",
    "for ax in axs.flat:\n",
    "    ax.set(xlabel='x')"
   ]
  },
  {
   "cell_type": "markdown",
   "metadata": {},
   "source": [
    "# d)\n",
    "Yes there is a trendline with slope > 0, indicating that particles evaulated with multiplicative noise are tend to drift more as x increases."
   ]
  }
 ],
 "metadata": {
  "kernelspec": {
   "display_name": "Python 3 (ipykernel)",
   "language": "python",
   "name": "python3"
  },
  "language_info": {
   "codemirror_mode": {
    "name": "ipython",
    "version": 3
   },
   "file_extension": ".py",
   "mimetype": "text/x-python",
   "name": "python",
   "nbconvert_exporter": "python",
   "pygments_lexer": "ipython3",
   "version": "3.10.12"
  }
 },
 "nbformat": 4,
 "nbformat_minor": 2
}
