{
 "cells": [
  {
   "cell_type": "markdown",
   "metadata": {},
   "source": [
    "FFR 120  \n",
    "Felix Waldschock\n",
    "\n",
    "HW 3 \n",
    "Exercise 12.6\n",
    "## Average path length and clustering coef ficient of Albert–Barabási preferential-growth graph"
   ]
  },
  {
   "cell_type": "code",
   "execution_count": 49,
   "metadata": {},
   "outputs": [],
   "source": [
    "import numpy as np\n",
    "import matplotlib.pyplot as plt\n",
    "from scipy.special import comb\n",
    "import scienceplots\n",
    "plt.style.use(['science','grid'])\n",
    "from tqdm import trange\n",
    "import math\n"
   ]
  },
  {
   "cell_type": "markdown",
   "metadata": {},
   "source": [
    "## Define functions"
   ]
  },
  {
   "cell_type": "markdown",
   "metadata": {},
   "source": [
    "# generate adjacency matrix\n",
    "def generateAdjacencyMatrix(n):\n",
    "    A = np.ones((n,n))\n",
    "    # diagonal = 0 \n",
    "    np.fill_diagonal(A, 0)\n",
    "    return A"
   ]
  },
  {
   "cell_type": "code",
   "execution_count": 50,
   "metadata": {},
   "outputs": [],
   "source": [
    "def getDegree(A):\n",
    "    # get the sum over one axis, e.g the columns\n",
    "    return np.sum(A,axis=0)"
   ]
  },
  {
   "cell_type": "code",
   "execution_count": 51,
   "metadata": {},
   "outputs": [],
   "source": [
    "# generate adjacency matrix\n",
    "def generateAdjacencyMatrix(n):\n",
    "    A = np.ones((n,n))\n",
    "    # diagonal = 0 \n",
    "    np.fill_diagonal(A, 0)\n",
    "    return A"
   ]
  },
  {
   "cell_type": "code",
   "execution_count": 52,
   "metadata": {},
   "outputs": [],
   "source": [
    "def plot_ErdosRenyi(A, ax, title):\n",
    "    # Get the number of nodes\n",
    "    n = A.shape[0]\n",
    "\n",
    "    # Calculate the angular spacing for nodes on the circle\n",
    "    dAngle = 2 * np.pi / n\n",
    "\n",
    "    # Set the radius of the circle\n",
    "    r = 1\n",
    "\n",
    "    # Calculate the coordinates of nodes on the circle\n",
    "    x = r * np.cos(np.linspace(0, 2 * np.pi, n+1))\n",
    "    y = r * np.sin(np.linspace(0, 2 * np.pi, n+1))\n",
    "\n",
    "    # Plot nodes as blue circles\n",
    "    ax.plot(x, y, 'o', color='blue')\n",
    "\n",
    "    # Plot edges according to the Adjacency matrix A\n",
    "    for i in range(n):\n",
    "        for j in range(n):\n",
    "            if A[i, j] == 1:\n",
    "                ax.plot([x[i], x[j]], [y[i], y[j]], color='red')\n",
    "    ax.set_title(title)\n",
    "    # scale axes equally\n",
    "    ax.axis('equal')\n",
    "\n",
    "    # Turn off axis for cleaner visualization\n",
    "    ax.axis('off')"
   ]
  },
  {
   "cell_type": "code",
   "execution_count": 53,
   "metadata": {},
   "outputs": [],
   "source": [
    "def rouletteWheelSelection(Vector):\n",
    "    # make a cumsum of the vector\n",
    "    cumsum = np.cumsum(Vector)\n",
    "    # normalize the cumsum\n",
    "    cumsum = cumsum / np.sum(Vector)\n",
    "\n",
    "    # generate a random number between 0 and 1\n",
    "    r = np.random.rand()\n",
    "\n",
    "    # find the index of the cumsum using searchsorted\n",
    "    index = np.searchsorted(cumsum, r)\n",
    "\n",
    "    # set the vector[index] to 0\n",
    "    Vector[index] = 0\n",
    "\n",
    "    return index, Vector"
   ]
  },
  {
   "cell_type": "code",
   "execution_count": 54,
   "metadata": {},
   "outputs": [],
   "source": [
    "def AlbertBarabasi(A, m, n0, n):\n",
    "    # loop over (n-n0)\n",
    "    for i in range(n-n0):\n",
    "        # get degree\n",
    "        degree = getDegree(A)\n",
    "\n",
    "        # add a new node to A, pad with zeros\n",
    "        A = np.pad(A, ((0,1),(0,1)), 'constant', constant_values=0)\n",
    "\n",
    "        # add the new node to m extant nodes choosem randomly using a probability that is proportional to their degree\n",
    "        degree = getDegree(A)\n",
    "        for j in range(m):\n",
    "            # get the probability\n",
    "            indx, degree = rouletteWheelSelection(degree)\n",
    "            \n",
    "            # add the edge\n",
    "            A[indx,-1] = 1\n",
    "            A[-1,indx] = 1\n",
    "\n",
    "    return A"
   ]
  },
  {
   "cell_type": "code",
   "execution_count": 55,
   "metadata": {},
   "outputs": [],
   "source": [
    "# compute the average path length of matrix A\n",
    "def computePathMatrix(A):\n",
    "    n = A.shape[0]\n",
    "\n",
    "    # copy A\n",
    "    A_copy = np.copy(A)\n",
    "\n",
    "    # compute the shortest path length between all pairs of nodes\n",
    "    # initialize matrix with -1\n",
    "    L = np.ones((n,n)) * (-1)\n",
    "\n",
    "    # implement a copy of L where the diagonal is =-1 so that the while case can just check that none of the elements are -1\n",
    "    B = np.copy(L)\n",
    "    # B set diagonal to 0\n",
    "    np.fill_diagonal(B, 0)\n",
    "\n",
    "    # set increment t\n",
    "    t = 1\n",
    "    t_max = 200\n",
    "\n",
    "    # create a History tensor H with 3 dimensions \n",
    "    H = np.zeros((n,n,t_max+1))\n",
    "\n",
    "    while (np.any(B == -1)):\n",
    "    #for b in range(5):\n",
    "        for i in range(n):\n",
    "            for j in range(i,n):\n",
    "                if A[i,j] != 0:\n",
    "                    if L[i,j] == L[j,i]:\n",
    "                        if L[i,j] == -1:\n",
    "                            #if i != j:\n",
    "                                # if i != j, set L[i,j] = t+1\n",
    "                                L[i,j] = t\n",
    "                                L[j,i] = t\n",
    "                                #print(\"Changed L[{},{}] to {}\".format(i,j,t))\n",
    "        # increase power of A\n",
    "        A = np.matmul(A,A_copy)\n",
    "        # Update counter t\n",
    "        t += 1\n",
    "        \n",
    "        # Update B\n",
    "        B = np.copy(L)\n",
    "        np.fill_diagonal(B, 0)\n",
    "\n",
    "        # push L to H\n",
    "        H[:,:,t-1] = L\n",
    "\n",
    "        # if t > 10, break\n",
    "        if t > t_max:\n",
    "            print(\"Breaking, t > 200\")\n",
    "            break\n",
    "    # print(\"Finished after T = {}\".format(t))\n",
    "\n",
    "    return L,H,A,A_copy\n",
    "    # return L"
   ]
  },
  {
   "cell_type": "code",
   "execution_count": 56,
   "metadata": {},
   "outputs": [],
   "source": [
    "# Formula 12.3\n",
    "def getClusteringCoefficient(A):\n",
    "    A_2 = np.matmul(A,A)\n",
    "    A_3 = np.matmul(A_2,A)\n",
    "    # get the diagonal\n",
    "    diag = np.diagonal(A_3)\n",
    "    # get the sum of the diagonal\n",
    "    sumDiag = np.sum(diag)              # Dimension: (1,1)\n",
    "\n",
    "    # k_i is the degree of node i \n",
    "    k_i = np.sum(A, axis=0)             # Dimension: (n,1)\n",
    "    # elementwise square of k_i\n",
    "    k_i_2 = np.square(k_i)              # Dimension: (n,1)\n",
    "    # sum of k_i_2\n",
    "    sum_Triples = np.sum(k_i_2 - k_i)   # Dimension: (1,1)\n",
    "\n",
    "    # get the number of nodes\n",
    "    n = A.shape[0]\n",
    "\n",
    "    # compute the clustering coefficient\n",
    "    C = sumDiag / sum_Triples\n",
    "\n",
    "    return C"
   ]
  },
  {
   "cell_type": "code",
   "execution_count": 57,
   "metadata": {},
   "outputs": [],
   "source": [
    "# compute the average path length\n",
    "def getAveragePathLength(L):\n",
    "    # sum the matrix L and divide by the number of elements minus the diagonal\n",
    "    n = L.shape[0]\n",
    "    sum = np.sum(L)\n",
    "    avg = sum / (n*n - n)\n",
    "    return avg\n",
    "    "
   ]
  },
  {
   "cell_type": "markdown",
   "metadata": {},
   "source": [
    "# Simulation"
   ]
  },
  {
   "cell_type": "code",
   "execution_count": 58,
   "metadata": {},
   "outputs": [],
   "source": [
    "n = np.logspace(1,3,40, dtype=int)\n",
    "m = np.array([1,3,10])\n",
    "n0 = 10\n"
   ]
  },
  {
   "cell_type": "code",
   "execution_count": 59,
   "metadata": {},
   "outputs": [
    {
     "name": "stderr",
     "output_type": "stream",
     "text": [
      "100%|██████████| 3/3 [00:44<00:00, 14.74s/it]\n"
     ]
    }
   ],
   "source": [
    "# init the network\n",
    "A_init = generateAdjacencyMatrix(n0)\n",
    "\n",
    "# store the avergae path length\n",
    "AvgL = np.zeros((len(m), len(n)))\n",
    "\n",
    "# loop over m\n",
    "for i in trange(len(m)):\n",
    "    A_ = np.zeros((n0,n0,len(m), len(n)))\n",
    "    for j in range(len(n)):\n",
    "        A_b = AlbertBarabasi(A_init, m[i], n0, n[j])\n",
    "        L_b,_,_,_ = computePathMatrix(A_b)\n",
    "        AvgL[i,j] = getAveragePathLength(L_b)\n",
    "\n",
    "\n",
    "\n"
   ]
  },
  {
   "cell_type": "code",
   "execution_count": 60,
   "metadata": {},
   "outputs": [
    {
     "name": "stderr",
     "output_type": "stream",
     "text": [
      "100%|██████████| 20/20 [00:12<00:00,  1.57it/s]\n"
     ]
    }
   ],
   "source": [
    "# Clustering coefficient for several m [1 - 20] for n = 1000 n0 = 20\n",
    "n_2 = 1000\n",
    "n0_2 = 20\n",
    "m_2 = np.arange(1,21,1)\n",
    "\n",
    "# init the network\n",
    "A_init_2 = generateAdjacencyMatrix(n0_2)\n",
    "\n",
    "# store the clustering coefficient\n",
    "C_2 = np.zeros((len(m_2),1))\n",
    "\n",
    "# loop over m\n",
    "for i in trange(len(m_2)):\n",
    "    A_b_2 = AlbertBarabasi(A_init_2, m_2[i], n0_2, n_2)\n",
    "    C_2[i] = getClusteringCoefficient(A_b_2)\n",
    "    "
   ]
  },
  {
   "cell_type": "markdown",
   "metadata": {},
   "source": [
    "# Visualize"
   ]
  },
  {
   "cell_type": "code",
   "execution_count": 61,
   "metadata": {},
   "outputs": [
    {
     "data": {
      "image/png": "[encoded data removed]",
      "text/plain": [
       "<Figure size 1200x600 with 2 Axes>"
      ]
     },
     "metadata": {},
     "output_type": "display_data"
    }
   ],
   "source": [
    "# create a figure, subplot 1x2\n",
    "fig, ax = plt.subplots(1,2, figsize=(12,6))\n",
    "\n",
    "# in the left plot, show average path length as a function of n, for the different values of m\n",
    "for i in range(len(m)):\n",
    "    ax[0].semilogx(n, AvgL[i,:], 'o', label=\"m = {}\".format(m[i]))\n",
    "ax[0].set_xlabel(\"n\")\n",
    "ax[0].set_ylabel(\"Average path length\")\n",
    "ax[0].set_title(\"Average path length as a function of n\")\n",
    "ax[0].legend()\n",
    "\n",
    "# in the right plot, show the clustering coefficient as a function of m\n",
    "ax[1].plot(m_2, C_2, 'o')\n",
    "ax[1].set_xlabel(\"m\")\n",
    "ax[1].set_ylabel(\"Clustering coefficient\")\n",
    "ax[1].set_title(\"Clustering coefficient as a function of m\")\n",
    "ax[1].set_ylim(0.0,0.25)\n",
    "\n",
    "plt.show()"
   ]
  }
 ],
 "metadata": {
  "kernelspec": {
   "display_name": "Python 3",
   "language": "python",
   "name": "python3"
  },
  "language_info": {
   "codemirror_mode": {
    "name": "ipython",
    "version": 3
   },
   "file_extension": ".py",
   "mimetype": "text/x-python",
   "name": "python",
   "nbconvert_exporter": "python",
   "pygments_lexer": "ipython3",
   "version": "3.10.12"
  }
 },
 "nbformat": 4,
 "nbformat_minor": 2
}
