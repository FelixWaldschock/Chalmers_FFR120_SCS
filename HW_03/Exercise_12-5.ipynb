{
 "cells": [
  {
   "cell_type": "markdown",
   "metadata": {},
   "source": [
    "FFR 120  \n",
    "Felix Waldschock\n",
    "\n",
    "HW 3 \n",
    "Exercise 12.4\n",
    "## Average path length and clustering coef ficient of Watts–Strogatz small-world graphs. \n"
   ]
  },
  {
   "cell_type": "code",
   "execution_count": 76,
   "metadata": {},
   "outputs": [],
   "source": [
    "import numpy as np\n",
    "import matplotlib.pyplot as plt\n",
    "from scipy.special import comb\n",
    "import scienceplots\n",
    "plt.style.use(['science','grid'])\n",
    "from tqdm import trange\n",
    "import math\n"
   ]
  },
  {
   "cell_type": "code",
   "execution_count": 77,
   "metadata": {},
   "outputs": [],
   "source": [
    "# generate adjacency matrix\n",
    "def generateWattStrogatz(n,p,c):\n",
    "    A = np.zeros((n,n))\n",
    "    for i in range(n):\n",
    "        for j in range(i+1,n):\n",
    "            if np.random.rand() < p:\n",
    "                A[i,j] = 1\n",
    "                A[j,i] = 1\n",
    "        # do the nearest neighbour connections\n",
    "        for b in range(c):\n",
    "            A[i, (i + int(b) + 1) % n] = 1\n",
    "\n",
    "    return A"
   ]
  },
  {
   "cell_type": "markdown",
   "metadata": {},
   "source": [
    "# theoretical approximation for C for Watts Strogatz Networks\n",
    "\n",
    "$ C = \\frac{3(c-2)}{4(c-1)}$"
   ]
  },
  {
   "cell_type": "code",
   "execution_count": 78,
   "metadata": {},
   "outputs": [],
   "source": [
    "# compute the average path length of matrix A\n",
    "def computeAveragePathLength(A):\n",
    "    n = A.shape[0]\n",
    "\n",
    "    # copy A\n",
    "    A_copy = np.copy(A)\n",
    "\n",
    "    # compute the shortest path length between all pairs of nodes\n",
    "    # initialize matrix with -1\n",
    "    L = np.ones((n,n)) * (-1)\n",
    "\n",
    "    # implement a copy of L where the diagonal is =-1 so that the while case can just check that none of the elements are -1\n",
    "    B = np.copy(L)\n",
    "    # B set diagonal to 0\n",
    "    np.fill_diagonal(B, 0)\n",
    "\n",
    "    # set increment t\n",
    "    t = 1\n",
    "    t_max = 200\n",
    "\n",
    "    # create a History tensor H with 3 dimensions \n",
    "    H = np.zeros((n,n,t_max+1))\n",
    "\n",
    "    while (np.any(B == -1)):\n",
    "    #for b in range(5):\n",
    "        for i in range(n):\n",
    "            for j in range(n):\n",
    "                if A[i,j] != 0:\n",
    "                    if L[i,j] == L[j,i] == -1:\n",
    "                        if i != j:\n",
    "                            # if i != j, set L[i,j] = t+1\n",
    "                            L[i,j] = t\n",
    "                            L[j,i] = t\n",
    "                            #print(\"Changed L[{},{}] to {}\".format(i,j,t))\n",
    "        # increase power of A\n",
    "        A = np.matmul(A,A)\n",
    "        # Update counter t\n",
    "        # print(\"Updated t to {}\".format(t))\n",
    "        t += 1\n",
    "        # Update B\n",
    "        B = np.copy(L)\n",
    "        np.fill_diagonal(B, 0)\n",
    "        # print(t)\n",
    "        # print(B)\n",
    "\n",
    "        # push L to H\n",
    "        H[:,:,t-1] = L\n",
    "\n",
    "        # if t > 10, break\n",
    "        if t > t_max:\n",
    "            print(\"Breaking, t > 100\")\n",
    "            break\n",
    "    print(\"Finished after T = {}\".format(t))\n",
    "\n",
    "    return L,H,A,A_copy"
   ]
  },
  {
   "cell_type": "code",
   "execution_count": 79,
   "metadata": {},
   "outputs": [],
   "source": [
    "def plot_ErdosRenyi(A, ax, title):\n",
    "    # Get the number of nodes\n",
    "    n = A.shape[0]\n",
    "\n",
    "    # Calculate the angular spacing for nodes on the circle\n",
    "    dAngle = 2 * np.pi / n\n",
    "\n",
    "    # Set the radius of the circle\n",
    "    r = 1\n",
    "\n",
    "    # Calculate the coordinates of nodes on the circle\n",
    "    x = r * np.cos(np.linspace(0, 2 * np.pi, n+1))\n",
    "    y = r * np.sin(np.linspace(0, 2 * np.pi, n+1))\n",
    "\n",
    "    # Plot nodes as blue circles\n",
    "    ax.plot(x, y, 'o', color='blue')\n",
    "\n",
    "    # Plot edges according to the Adjacency matrix A\n",
    "    for i in range(n):\n",
    "        for j in range(n):\n",
    "            if A[i, j] == 1:\n",
    "                ax.plot([x[i], x[j]], [y[i], y[j]], color='red')\n",
    "    ax.set_title(title)\n",
    "    # scale axes equally\n",
    "    ax.axis('equal')\n",
    "\n",
    "    # Turn off axis for cleaner visualization\n",
    "    ax.axis('off')"
   ]
  },
  {
   "cell_type": "code",
   "execution_count": 80,
   "metadata": {},
   "outputs": [],
   "source": [
    "# Formula 12.3\n",
    "def getClusteringCoefficient(A):\n",
    "    A_2 = np.matmul(A,A)\n",
    "    A_3 = np.matmul(A_2,A)\n",
    "    # get the diagonal\n",
    "    diag = np.diagonal(A_3)\n",
    "    # get the sum of the diagonal\n",
    "    sumDiag = np.sum(diag)              # Dimension: (1,1)\n",
    "\n",
    "    # k_i is the degree of node i \n",
    "    k_i = np.sum(A, axis=0)             # Dimension: (n,1)\n",
    "    # elementwise square of k_i\n",
    "    k_i_2 = np.square(k_i)              # Dimension: (n,1)\n",
    "    # sum of k_i_2\n",
    "    sum_Triples = np.sum(k_i_2 - k_i)   # Dimension: (1,1)\n",
    "\n",
    "    # get the number of nodes\n",
    "    n = A.shape[0]\n",
    "\n",
    "    # compute the clustering coefficient\n",
    "    C = sumDiag / sum_Triples\n",
    "\n",
    "    return C"
   ]
  },
  {
   "cell_type": "code",
   "execution_count": 81,
   "metadata": {},
   "outputs": [],
   "source": [
    "# compute the average path length\n",
    "def getAveragePathLength(L):\n",
    "    # sum the matrix L and divide by the number of elements minus the diagonal\n",
    "    n = L.shape[0]\n",
    "    sum = np.sum(L)\n",
    "    avg = sum / (n*n - n)\n",
    "    return avg\n",
    "    "
   ]
  },
  {
   "cell_type": "code",
   "execution_count": 82,
   "metadata": {},
   "outputs": [],
   "source": [
    "def getClusteringCoefficientTheoretical(c):\n",
    "    return (3*(c-2)/(4*(c-1)))"
   ]
  },
  {
   "cell_type": "code",
   "execution_count": 83,
   "metadata": {},
   "outputs": [],
   "source": [
    "# parameters\n",
    "n = 40\n",
    "c = 4\n",
    "p = np.logspace(-5, -3, 8)"
   ]
  },
  {
   "cell_type": "code",
   "execution_count": 84,
   "metadata": {},
   "outputs": [
    {
     "name": "stdout",
     "output_type": "stream",
     "text": [
      "Finished after T = 5\n",
      "Finished after T = 5\n",
      "Finished after T = 5\n",
      "Finished after T = 5\n",
      "Finished after T = 5\n",
      "Finished after T = 5\n",
      "Finished after T = 5\n",
      "Finished after T = 5\n"
     ]
    }
   ],
   "source": [
    "# init the arrays to store network\n",
    "A_ = np.zeros((n,n, len(p)))\n",
    "L_ = np.zeros((n,n, len(p)))\n",
    "C = np.zeros(len(p))\n",
    "\n",
    "# Init the network and evaluate L and C\n",
    "for i in range(len(p)):\n",
    "    A_[:,:,i] = generateWattStrogatz(n, p[i], c)\n",
    "    L_[:,:,i],_,_,_ = computeAveragePathLength(A_[:,:,i])\n",
    "    C[i] = getClusteringCoefficient(A_[:,:,i])\n",
    "\n",
    "\n",
    "\n",
    "# compute the average path length for each p\n",
    "avg_path_length = np.zeros(len(p))\n",
    "for i in range(len(p)):\n",
    "    avg_path_length[i] = getAveragePathLength(L_[:,:,i])\n"
   ]
  },
  {
   "cell_type": "code",
   "execution_count": 91,
   "metadata": {},
   "outputs": [
    {
     "data": {
      "image/png": "[encoded data removed]",
      "text/plain": [
       "<Figure size 350x262.5 with 1 Axes>"
      ]
     },
     "metadata": {},
     "output_type": "display_data"
    },
    {
     "name": "stdout",
     "output_type": "stream",
     "text": [
      "[[-1.  1.  1. ...  1.  1.  1.]\n",
      " [ 1. -1.  1. ...  1.  1.  1.]\n",
      " [ 1.  1. -1. ...  2.  1.  1.]\n",
      " ...\n",
      " [ 1.  1.  2. ... -1.  1.  1.]\n",
      " [ 1.  1.  1. ...  1. -1.  1.]\n",
      " [ 1.  1.  1. ...  1.  1. -1.]]\n"
     ]
    },
    {
     "data": {
      "text/plain": [
       "<matplotlib.image.AxesImage at 0x12ee38e80>"
      ]
     },
     "execution_count": 91,
     "metadata": {},
     "output_type": "execute_result"
    },
    {
     "data": {
      "image/png": "[encoded data removed]",
      "text/plain": [
       "<Figure size 350x262.5 with 1 Axes>"
      ]
     },
     "metadata": {},
     "output_type": "display_data"
    }
   ],
   "source": [
    "# plot the first A network\n",
    "fig, ax = plt.subplots(1,1)\n",
    "plot_ErdosRenyi(A_[:,:,0], ax, \"Watts-Strogatz network with p = {}\".format(p[0]))\n",
    "plt.show()\n",
    "p = ((L_[:,:,0]))\n",
    "print(p)\n",
    "plt.imshow(p)"
   ]
  },
  {
   "cell_type": "code",
   "execution_count": 86,
   "metadata": {},
   "outputs": [
    {
     "data": {
      "image/png": "[encoded data removed]",
      "text/plain": [
       "<Figure size 1000x500 with 2 Axes>"
      ]
     },
     "metadata": {},
     "output_type": "display_data"
    }
   ],
   "source": [
    "# plot the data in a 1x2 subplot\n",
    "# left average length, right clustering coefficient\n",
    "\n",
    "fig, ax = plt.subplots(1,2, figsize=(10,5))\n",
    "ax[0].semilogx(p, avg_path_length, 'o', label=\"Numerical\")\n",
    "ax[0].set_xlabel(\"p\")\n",
    "ax[0].set_ylabel(\"Average path length\")\n",
    "\n",
    "# plot the boundaries at n/2c (eq. 12.6) and ln(n)/ln(c) (eq. 12.7) -> draw horizontal lines\n",
    "ax[0].axhline(n/(2*c), label=\"n/2c\", color=\"red\")\n",
    "ax[0].axhline(np.log(n)/np.log(c), label=\"ln(n)/ln(c)\", color=\"green\")\n",
    "\n",
    "\n",
    "# # plot the numerical coefficients\n",
    "# ax[1].plot(p, C, label=\"C\")\n",
    "# ax[1].set_xlabel(\"p\")\n",
    "# ax[1].set_ylabel(\"C\")\n",
    "# ax[1].set_xscale(\"log\")\n",
    "# ax[1].legend()\n",
    "\n",
    "# # plot the theoretical coefficients\n",
    "# ax[1].plot(p, p, label=\"p\")\n",
    "\n",
    "\n",
    "\n",
    "plt.show()"
   ]
  }
 ],
 "metadata": {
  "kernelspec": {
   "display_name": "Python 3",
   "language": "python",
   "name": "python3"
  },
  "language_info": {
   "codemirror_mode": {
    "name": "ipython",
    "version": 3
   },
   "file_extension": ".py",
   "mimetype": "text/x-python",
   "name": "python",
   "nbconvert_exporter": "python",
   "pygments_lexer": "ipython3",
   "version": "3.10.12"
  }
 },
 "nbformat": 4,
 "nbformat_minor": 2
}
