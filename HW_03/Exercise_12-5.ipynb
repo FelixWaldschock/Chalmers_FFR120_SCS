{
 "cells": [
  {
   "cell_type": "markdown",
   "metadata": {},
   "source": [
    "FFR 120  \n",
    "Felix Waldschock\n",
    "\n",
    "HW 3 \n",
    "Exercise 12.4\n",
    "## Average path length and clustering coef ficient of Watts–Strogatz small-world graphs. \n"
   ]
  },
  {
   "cell_type": "code",
   "execution_count": 10,
   "metadata": {},
   "outputs": [],
   "source": [
    "import numpy as np\n",
    "import matplotlib.pyplot as plt\n",
    "from scipy.special import comb\n",
    "import scienceplots\n",
    "plt.style.use(['science','grid'])\n",
    "from tqdm import trange\n",
    "import math\n"
   ]
  },
  {
   "cell_type": "code",
   "execution_count": 11,
   "metadata": {},
   "outputs": [],
   "source": [
    "# generate adjacency matrix\n",
    "def generateWattStrogatz(n,p,c):\n",
    "    A = np.zeros((n,n))\n",
    "    for i in range(n):\n",
    "        for j in range(i+1,n):\n",
    "            if np.random.rand() < p:\n",
    "                A[i,j] = 1\n",
    "                A[j,i] = 1\n",
    "        # do the nearest neighbour connections\n",
    "        for b in range(c):\n",
    "            # c describes how many connections in total, so we need to divide by 2 to get the number of connections per side\n",
    "            A[i,(i+int(b/2)+1)%n] = 1\n",
    "            A[(i+int(b/2)+1)%n,i] = 1\n",
    "\n",
    "    return A"
   ]
  },
  {
   "cell_type": "markdown",
   "metadata": {},
   "source": [
    "# theoretical approximation for C for Watts Strogatz Networks\n",
    "\n",
    "$ C = \\frac{3(c-2)}{4(c-1)}$"
   ]
  },
  {
   "cell_type": "code",
   "execution_count": 12,
   "metadata": {},
   "outputs": [],
   "source": [
    "# compute the average path length of matrix A\n",
    "def computePathMatrix(A):\n",
    "    n = A.shape[0]\n",
    "\n",
    "    # copy A\n",
    "    A_copy = np.copy(A)\n",
    "\n",
    "    # compute the shortest path length between all pairs of nodes\n",
    "    # initialize matrix with -1\n",
    "    L = np.ones((n,n)) * (-1)\n",
    "\n",
    "    # implement a copy of L where the diagonal is =-1 so that the while case can just check that none of the elements are -1\n",
    "    B = np.copy(L)\n",
    "    # B set diagonal to 0\n",
    "    np.fill_diagonal(B, 0)\n",
    "\n",
    "    # set increment t\n",
    "    t = 1\n",
    "    t_max = 200\n",
    "\n",
    " \n",
    "\n",
    "    while (np.any(B == -1)):\n",
    "    #for b in range(5):\n",
    "        for i in range(n):\n",
    "            for j in range(i,n):\n",
    "                if A[i,j] != 0:\n",
    "                    if L[i,j] == L[j,i]:\n",
    "                        if L[i,j] == -1:\n",
    "                            #if i != j:\n",
    "                                # if i != j, set L[i,j] = t+1\n",
    "                                L[i,j] = t\n",
    "                                L[j,i] = t\n",
    "                                #print(\"Changed L[{},{}] to {}\".format(i,j,t))\n",
    "        # increase power of A\n",
    "        A = np.matmul(A,A_copy)\n",
    "        # Update counter t\n",
    "        t += 1\n",
    "        \n",
    "        # Update B\n",
    "        B = np.copy(L)\n",
    "        np.fill_diagonal(B, 0)\n",
    "\n",
    "\n",
    "        # if t > 10, break\n",
    "        # if t > t_max:\n",
    "        #     print(\"Breaking, t > 200\")\n",
    "        #     break\n",
    "    # print(\"Finished after T = {}\".format(t))\n",
    "    return L"
   ]
  },
  {
   "cell_type": "code",
   "execution_count": 13,
   "metadata": {},
   "outputs": [],
   "source": [
    "def plot_ErdosRenyi(A, ax, title):\n",
    "    # Get the number of nodes\n",
    "    n = A.shape[0]\n",
    "\n",
    "    # Calculate the angular spacing for nodes on the circle\n",
    "    dAngle = 2 * np.pi / n\n",
    "\n",
    "    # Set the radius of the circle\n",
    "    r = 1\n",
    "\n",
    "    # Calculate the coordinates of nodes on the circle\n",
    "    x = r * np.cos(np.linspace(0, 2 * np.pi, n+1))\n",
    "    y = r * np.sin(np.linspace(0, 2 * np.pi, n+1))\n",
    "\n",
    "    # Plot nodes as blue circles\n",
    "    ax.plot(x, y, 'o', color='blue')\n",
    "\n",
    "    # # increase the text size\n",
    "    # plt.rcParams.update({'font.size': 20})\n",
    "\n",
    "    # # label the nodes\n",
    "    # for i in range(n):\n",
    "    #     ax.text(x[i], y[i], str(i), color='white', ha='center', va='center')\n",
    "\n",
    "    # Plot edges according to the Adjacency matrix A\n",
    "    for i in range(n):\n",
    "        for j in range(n):\n",
    "            if A[i, j] == 1:\n",
    "                ax.plot([x[i], x[j]], [y[i], y[j]], color='red')\n",
    "\n",
    "\n",
    "    ax.set_title(title)\n",
    "    # scale axes equally\n",
    "    ax.axis('equal')\n",
    "\n",
    "    # Turn off axis for cleaner visualization\n",
    "    ax.axis('off')\n"
   ]
  },
  {
   "cell_type": "code",
   "execution_count": 14,
   "metadata": {},
   "outputs": [],
   "source": [
    "# Formula 12.3\n",
    "def getClusteringCoefficient(A):\n",
    "    A_2 = np.matmul(A,A)\n",
    "    A_3 = np.matmul(A_2,A)\n",
    "    # get the diagonal\n",
    "    diag = np.diagonal(A_3)\n",
    "    # get the sum of the diagonal\n",
    "    sumDiag = np.sum(diag)              # Dimension: (1,1)\n",
    "\n",
    "    # k_i is the degree of node i \n",
    "    k_i = np.sum(A, axis=0)             # Dimension: (n,1)\n",
    "    # elementwise square of k_i\n",
    "    k_i_2 = np.square(k_i)              # Dimension: (n,1)\n",
    "    # sum of k_i_2\n",
    "    sum_Triples = np.sum(k_i_2 - k_i)   # Dimension: (1,1)\n",
    "\n",
    "    # get the number of nodes\n",
    "    n = A.shape[0]\n",
    "\n",
    "    # compute the clustering coefficient\n",
    "    C = sumDiag / sum_Triples\n",
    "\n",
    "    return C"
   ]
  },
  {
   "cell_type": "code",
   "execution_count": 24,
   "metadata": {},
   "outputs": [],
   "source": [
    "# compute the average path length\n",
    "def getAveragePathLength(L):\n",
    "    # sum the matrix L and divide by the number of elements minus the diagonal\n",
    "    n = L.shape[0]\n",
    "    # set the diagonal to 0\n",
    "    np.fill_diagonal(L, 0)\n",
    "    sum = np.sum(L)\n",
    "    avg = sum / (n*n - n)\n",
    "    return avg\n",
    "    "
   ]
  },
  {
   "cell_type": "code",
   "execution_count": 16,
   "metadata": {},
   "outputs": [],
   "source": [
    "def getClusteringCoefficientTheoretical(c):\n",
    "    return (3*(c-2)/(4*(c-1)))"
   ]
  },
  {
   "cell_type": "code",
   "execution_count": 17,
   "metadata": {},
   "outputs": [],
   "source": [
    "# parameters\n",
    "n = 500\n",
    "c = 6\n",
    "p = np.logspace(-5, 0, 20)\n"
   ]
  },
  {
   "cell_type": "code",
   "execution_count": 18,
   "metadata": {},
   "outputs": [
    {
     "name": "stderr",
     "output_type": "stream",
     "text": [
      "  0%|          | 0/20 [00:00<?, ?it/s]"
     ]
    },
    {
     "name": "stderr",
     "output_type": "stream",
     "text": [
      "100%|██████████| 20/20 [00:41<00:00,  2.09s/it]\n",
      "100%|██████████| 20/20 [00:00<00:00, 757.29it/s]\n"
     ]
    }
   ],
   "source": [
    "# init the arrays to store network\n",
    "A_ = np.zeros((n,n, len(p)))\n",
    "L_ = np.zeros((n,n, len(p)))\n",
    "C = np.zeros(len(p))\n",
    "\n",
    "# Init the network and evaluate L and C\n",
    "for i in trange(len(p)):\n",
    "    A_[:,:,i] = generateWattStrogatz(n, p[i], c)\n",
    "    L_[:,:,i] = computePathMatrix(A_[:,:,i])\n",
    "    C[i] = getClusteringCoefficient(A_[:,:,i])\n",
    "\n",
    "# compute the average path length for each p\n",
    "avg_path_length = np.zeros(len(p))\n",
    "\n",
    "for i in trange(len(p)):\n",
    "    avg_path_length[i] = getAveragePathLength(L_[:,:,i])"
   ]
  },
  {
   "cell_type": "code",
   "execution_count": 21,
   "metadata": {},
   "outputs": [
    {
     "name": "stdout",
     "output_type": "stream",
     "text": [
      "[  2   4   6   8  10  20  30  40  50  60  70  80  90 100]\n",
      "[   2    4    6    8   10   20   30   40   50   60   70   80   90  100\n",
      "  100  160  220  280  340  400  460  520  580  640  700  760  820  880\n",
      "  940 1000 1060]\n"
     ]
    },
    {
     "name": "stderr",
     "output_type": "stream",
     "text": [
      "100%|██████████| 14/14 [00:00<00:00, 319.22it/s]\n",
      "100%|██████████| 31/31 [08:45<00:00, 16.94s/it]\n"
     ]
    }
   ],
   "source": [
    "if(1):\n",
    "    # compute for the clustering plot\n",
    "    n_1 = 50\n",
    "    n_2 = 1000\n",
    "    p_0 = 0\n",
    "    # parameter c for the clustering coefficient, even numbers from 2 to 100 log spaced\n",
    "    #cs = np.linspace(1,,40, dtype=int)*4\n",
    "    # for n_1, create a cs array with even numbers from 2 to 100 log spaced\n",
    "    cs_1 = np.array([2,4,6,8,10,20,30,40,50,60,70,80,90,100])\n",
    "\n",
    "    # for n_2, add to the cs_1, in 40 steps, 100 to 800\n",
    "    cs_2 = np.arange(start=100, stop=1100, step=60, dtype=int)\n",
    "\n",
    "    # combine the two arrays\n",
    "    cs_2 = np.concatenate((cs_1,cs_2))\n",
    "\n",
    "    # print\n",
    "    print(cs_1)\n",
    "    print(cs_2)\n",
    "\n",
    "    # init the arrays to store network\n",
    "    A_1 = np.zeros((n_1,n_1, len(cs_1)))\n",
    "    L_1 = np.zeros((n_1,n_1, len(cs_1)))\n",
    "    C_1 = np.zeros(len(cs_1))\n",
    "\n",
    "    A_2 = np.zeros((n_2,n_2, len(cs_2)))\n",
    "    L_2 = np.zeros((n_2,n_2, len(cs_2)))\n",
    "    C_2 = np.zeros(len(cs_2))\n",
    "\n",
    "    # Init the network and evaluate L and C\n",
    "    for i in trange(len(cs_1)):\n",
    "        A_1[:,:,i] = generateWattStrogatz(n_1, p_0, cs_1[i])\n",
    "        L_1[:,:,i] = computePathMatrix(A_1[:,:,i])\n",
    "        C_1[i] = getClusteringCoefficient(A_1[:,:,i])\n",
    "\n",
    "    for i in trange(len(cs_2)):\n",
    "        A_2[:,:,i] = generateWattStrogatz(n_2, p_0, cs_2[i])\n",
    "        L_2[:,:,i] = computePathMatrix(A_2[:,:,i])\n",
    "        C_2[i] = getClusteringCoefficient(A_2[:,:,i])\n"
   ]
  },
  {
   "cell_type": "code",
   "execution_count": 26,
   "metadata": {},
   "outputs": [
    {
     "data": {
      "text/plain": [
       "<matplotlib.legend.Legend at 0x137df6b00>"
      ]
     },
     "execution_count": 26,
     "metadata": {},
     "output_type": "execute_result"
    },
    {
     "data": {
      "image/png": "[encoded data removed]",
      "text/plain": [
       "<Figure size 1000x500 with 2 Axes>"
      ]
     },
     "metadata": {},
     "output_type": "display_data"
    }
   ],
   "source": [
    "# plot the data in a 1x2 subplot\n",
    "# left average length, right clustering coefficient\n",
    "\n",
    "fig, ax = plt.subplots(1,2, figsize=(10,5))\n",
    "\n",
    "# clear the plots\n",
    "ax[0].cla()\n",
    "ax[1].cla()\n",
    "\n",
    "# plot the numerical\n",
    "ax[0].semilogx(p, avg_path_length, 'o', label=\"Numerical\")\n",
    "ax[0].set_xlabel(\"p\")\n",
    "ax[0].set_ylabel(\"Average path length\")\n",
    "ax[0].set_title(\"Average path length\")\n",
    "ax[0].set_xlim(10e-6, 10e0)\n",
    "\n",
    "# plot the boundaries at n/2c (eq. 12.6) and ln(n)/ln(c) (eq. 12.7) -> draw horizontal lines\n",
    "ax[0].axhline(n/(2*c), label=\"n/2c\", color=\"red\")\n",
    "ax[0].axhline(np.log(n)/np.log(c), label=\"ln(n)/ln(c)\", color=\"green\")\n",
    "ax[0].legend()\n",
    "\n",
    "# plot the numerical coefficients on the right\n",
    "ax[1].semilogx(cs_1, C_1[:], 'o', label=\"Numerical, n = {}\".format(n_1))\n",
    "ax[1].semilogx(cs_2, C_2[:], 'x', label=\"Numerical, n = {}\".format(n_2))\n",
    "\n",
    "# plot the theoretical coefficients on the right\n",
    "ax[1].semilogx(cs_2, getClusteringCoefficientTheoretical(cs_2), '--r', label=\"Theoretical\")\n",
    "\n",
    "ax[1].set_xlabel(\"c\")\n",
    "ax[1].set_ylabel(\"Clustering coefficient\")\n",
    "\n",
    "# show legend\n",
    "ax[1].legend()\n"
   ]
  }
 ],
 "metadata": {
  "kernelspec": {
   "display_name": "Python 3",
   "language": "python",
   "name": "python3"
  },
  "language_info": {
   "codemirror_mode": {
    "name": "ipython",
    "version": 3
   },
   "file_extension": ".py",
   "mimetype": "text/x-python",
   "name": "python",
   "nbconvert_exporter": "python",
   "pygments_lexer": "ipython3",
   "version": "3.10.12"
  }
 },
 "nbformat": 4,
 "nbformat_minor": 2
}
